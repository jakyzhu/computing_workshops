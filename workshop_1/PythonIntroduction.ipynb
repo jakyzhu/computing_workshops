{
 "cells": [
  {
   "cell_type": "markdown",
   "metadata": {
    "slideshow": {
     "slide_type": "slide"
    }
   },
   "source": [
    "# Python Computing Workshop\n",
    "\n",
    "### Taught by: Adam Peterson"
   ]
  },
  {
   "cell_type": "markdown",
   "metadata": {
    "slideshow": {
     "slide_type": "slide"
    }
   },
   "source": [
    "## My experience with Python & others\n",
    "\n",
    "* ~ 2 years as analyst using primarily VBA, SQL\n",
    "* Python was go to scripting language\n",
    "* Online Coursework\n",
    "<img src =\"https://coursera-course-photos.s3.amazonaws.com/f0/259c50cf1f11e4880f191bf1d9967e/coursera_logo.jpg\" style=\"width:200px\">"
   ]
  },
  {
   "cell_type": "markdown",
   "metadata": {
    "slideshow": {
     "slide_type": "subslide"
    }
   },
   "source": [
    "<img src =\"http://tinyurl.com/pg7pf8p\">"
   ]
  },
  {
   "cell_type": "markdown",
   "metadata": {
    "slideshow": {
     "slide_type": "slide"
    }
   },
   "source": [
    "# Questions this workshop will answer\n",
    "\n",
    "1. What is Python?\n",
    "2. Why is Python worth my time?\n",
    "3. What are some Python basics?\n"
   ]
  },
  {
   "cell_type": "markdown",
   "metadata": {
    "slideshow": {
     "slide_type": "slide"
    }
   },
   "source": [
    "# What is Python?\n",
    "\n",
    "* Interpreted language - as opposed to compiled\n",
    "* Developed in the 80's, noteworthy amongst languages for use of whitespace, plain syntax\n",
    "* Strong Scientific Computing Presence\n",
    "* Main criticisms: \"Pretty\" but dynamically typed $\\Rightarrow$ slow"
   ]
  },
  {
   "cell_type": "markdown",
   "metadata": {
    "slideshow": {
     "slide_type": "slide"
    }
   },
   "source": [
    "# Why is Python worth my time?\n",
    "\n",
    "* Short answer: Packages\n",
    "* Slightly longer answer: \"Because other people think it's worth theirs:\"\n",
    "* Exhibit 1: http://tensorflow.org/\n",
    "\n",
    "```\n",
    "TensorFlow was originally developed by researchers and engineers working on the Google Brain Team within Google's Machine Intelligence research organization.\n",
    "```\n",
    "```\n",
    "The system is designed to facilitate research in machine learning, \n",
    "and to make it quick and easy to transition from research prototype to production system.\n",
    "```"
   ]
  },
  {
   "cell_type": "markdown",
   "metadata": {
    "slideshow": {
     "slide_type": "subslide"
    }
   },
   "source": [
    "* Exhibit 2 : http://www.randalolson.com/2015/11/15/introducing-tpot-the-data-science-assistant/\n",
    "```\n",
    "TPOT is a Python tool that automatically creates and optimizes machine learning pipelines using genetic programming. \n",
    "```"
   ]
  },
  {
   "cell_type": "markdown",
   "metadata": {
    "slideshow": {
     "slide_type": "subslide"
    }
   },
   "source": [
    "* Exhibit 3 : http://jupyter.org/\n",
    "```\n",
    "The Jupyter Notebook is a web application that allows you to create and share documents that contain live code, equations, visualizations and explanatory text\n",
    "```"
   ]
  },
  {
   "cell_type": "markdown",
   "metadata": {
    "slideshow": {
     "slide_type": "subslide"
    }
   },
   "source": [
    "# What are packages?\n",
    "\n",
    "**Versioned Software that has already been developed and released for public use**  \n",
    "**This software is often oriented towards achieving some specific computational task**\n",
    "\n",
    "\n",
    "### Examples\n",
    "* Scientific Computing (i.e. applied Math) : Numpy, Scipy, Scikit-Learn, statsmodels, sympy, pymc\n",
    "* WebDev: Flask, Django\n",
    "* Web Scraping: Beautiful Soup, Scrapy\n",
    "* Natural Language Processing: Spacy, NLTK\n",
    "\n",
    "<img src=\"https://kaggle2.blob.core.windows.net/competitions/kaggle/3428/media/scikit-learn-logo.png\">\n"
   ]
  },
  {
   "cell_type": "markdown",
   "metadata": {
    "slideshow": {
     "slide_type": "slide"
    }
   },
   "source": [
    "\n",
    "\n",
    "<img src=\"rpython.png\">"
   ]
  },
  {
   "cell_type": "markdown",
   "metadata": {
    "slideshow": {
     "slide_type": "subslide"
    }
   },
   "source": [
    "### R vs. Python\n",
    "\n",
    "* General Programming Language vs. Statistical Language\n",
    "    * Programming Paradigm differences\n",
    "* Industry vs. Academia \n",
    "* Just another tool - whichever you choose; know how to use it"
   ]
  },
  {
   "cell_type": "markdown",
   "metadata": {
    "slideshow": {
     "slide_type": "slide"
    }
   },
   "source": [
    "## Web Scraping: An Example\n",
    "\n",
    "But first... some prerequisites"
   ]
  },
  {
   "cell_type": "code",
   "execution_count": 1,
   "metadata": {
    "collapsed": false,
    "slideshow": {
     "slide_type": "slide"
    }
   },
   "outputs": [
    {
     "name": "stdout",
     "output_type": "stream",
     "text": [
      "5\n"
     ]
    }
   ],
   "source": [
    "## This is variable declaration...also a comment\n",
    "my_first_var = 5 ## <-- 5 is an integer...an integer is a 'natural number'\n",
    "print my_first_var ## we print variables using the \"print\" function"
   ]
  },
  {
   "cell_type": "code",
   "execution_count": 3,
   "metadata": {
    "collapsed": false,
    "slideshow": {
     "slide_type": "slide"
    }
   },
   "outputs": [
    {
     "name": "stdout",
     "output_type": "stream",
     "text": [
      "[1, 2, 'cats', 'dogs'] 1\n",
      "<type 'tuple'>\n"
     ]
    }
   ],
   "source": [
    "a_list = [1,2,\"cats\",\"dogs\"] ## ordered array \n",
    "print a_list, a_list[0] ## here cats and dogs are strings!\n",
    "print type((a_list,a_list[0])) ## I just made a tuple"
   ]
  },
  {
   "cell_type": "code",
   "execution_count": 4,
   "metadata": {
    "collapsed": false,
    "slideshow": {
     "slide_type": "slide"
    }
   },
   "outputs": [
    {
     "name": "stdout",
     "output_type": "stream",
     "text": [
      "1\n",
      "2\n",
      "cats\n",
      "dogs\n"
     ]
    }
   ],
   "source": [
    "## Python has a cool iteration procedure\n",
    "for item in a_list:\n",
    "    print item ## notice the indentation...have to have that"
   ]
  },
  {
   "cell_type": "code",
   "execution_count": 14,
   "metadata": {
    "collapsed": false,
    "slideshow": {
     "slide_type": "slide"
    }
   },
   "outputs": [
    {
     "name": "stdout",
     "output_type": "stream",
     "text": [
      "4\n"
     ]
    }
   ],
   "source": [
    "def function_numero_uno(parameter):\n",
    "    \"\"\"\n",
    "    This is how you make functions\n",
    "    \"\"\"\n",
    "    if type(parameter)==int:\n",
    "        return parameter**2\n",
    "    else:\n",
    "        pass\n",
    "sqr = function_numero_uno(2)\n",
    "print sqr"
   ]
  },
  {
   "cell_type": "code",
   "execution_count": 13,
   "metadata": {
    "collapsed": false,
    "slideshow": {
     "slide_type": "slide"
    }
   },
   "outputs": [],
   "source": [
    "class Student:\n",
    "    \"\"\"\n",
    "    This is a custom digital object that stores information about a student\n",
    "    \"\"\"\n",
    "    def __init__(self,name):\n",
    "        self._name = name\n",
    "        self._grades = [] ## makes an empty list here\n",
    "    \n",
    "    def enter_grade(self,grade):\n",
    "        self._grades.append(grade)\n",
    "    \n",
    "    def is_good_student(self):\n",
    "        if sum(self._grades)==100:\n",
    "            print \"yeah!\"\n",
    "        else:\n",
    "            print \"ehh\"\n",
    "\n",
    "    def get_name(self):\n",
    "        return self._name"
   ]
  },
  {
   "cell_type": "code",
   "execution_count": 12,
   "metadata": {
    "collapsed": false,
    "slideshow": {
     "slide_type": "subslide"
    }
   },
   "outputs": [
    {
     "data": {
      "text/plain": [
       "'Adam'"
      ]
     },
     "execution_count": 12,
     "metadata": {},
     "output_type": "execute_result"
    }
   ],
   "source": [
    "me = Student(\"Adam\")\n",
    "me.get_name()"
   ]
  },
  {
   "cell_type": "markdown",
   "metadata": {
    "slideshow": {
     "slide_type": "slide"
    }
   },
   "source": [
    "### Alright lets get started"
   ]
  },
  {
   "cell_type": "markdown",
   "metadata": {},
   "source": []
  },
  {
   "cell_type": "markdown",
   "metadata": {
    "slideshow": {
     "slide_type": "slide"
    }
   },
   "source": [
    "## Practice Time!\n",
    "\n",
    "### Choose your own Adventure\n",
    "\n",
    "1. Worksheet + Rock-Paper-Lizard-Spock\n",
    "2. Codeacademy.com\n",
    "3. hackerrank.com\n",
    "4. projecteuler.org\n",
    "5. Coursera.org\n",
    "6. rosalind.org"
   ]
  }
 ],
 "metadata": {
  "celltoolbar": "Slideshow",
  "kernelspec": {
   "display_name": "Python 2",
   "language": "python",
   "name": "python2"
  },
  "language_info": {
   "codemirror_mode": {
    "name": "ipython",
    "version": 2
   },
   "file_extension": ".py",
   "mimetype": "text/x-python",
   "name": "python",
   "nbconvert_exporter": "python",
   "pygments_lexer": "ipython2",
   "version": "2.7.10"
  }
 },
 "nbformat": 4,
 "nbformat_minor": 0
}
