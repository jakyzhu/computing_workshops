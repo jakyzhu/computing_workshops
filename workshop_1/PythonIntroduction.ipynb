{
 "cells": [
  {
   "cell_type": "markdown",
   "metadata": {
    "slideshow": {
     "slide_type": "slide"
    }
   },
   "source": [
    "# Python Computing Workshop\n",
    "\n",
    "### Taught by: Adam Peterson"
   ]
  },
  {
   "cell_type": "markdown",
   "metadata": {
    "slideshow": {
     "slide_type": "slide"
    }
   },
   "source": [
    "## My experience with Python & others\n",
    "\n",
    "* ~ 2 years as analyst using primarily VBA, SQL\n",
    "* Python was go to scripting language\n",
    "* Online Coursework\n",
    "<img src =\"https://coursera-course-photos.s3.amazonaws.com/f0/259c50cf1f11e4880f191bf1d9967e/coursera_logo.jpg\" style=\"width:200px\">"
   ]
  },
  {
   "cell_type": "markdown",
   "metadata": {
    "slideshow": {
     "slide_type": "subslide"
    }
   },
   "source": [
    "<img src =\"http://tinyurl.com/pg7pf8p\">"
   ]
  },
  {
   "cell_type": "markdown",
   "metadata": {
    "slideshow": {
     "slide_type": "slide"
    }
   },
   "source": [
    "# Questions this workshop will answer\n",
    "\n",
    "1. What is Python?\n",
    "2. Why is Python worth my time?\n",
    "3. What are some Python basics?\n"
   ]
  },
  {
   "cell_type": "markdown",
   "metadata": {
    "slideshow": {
     "slide_type": "slide"
    }
   },
   "source": [
    "# What is Python?\n",
    "\n",
    "* Interpreted language - as opposed to compiled\n",
    "* Developed in the 80's noteworthy amongst languages for use of whitespace\n",
    "* Strong Scientific Computing Presence\n",
    "* Main criticisms: \"Pretty\" but dynamically typed $\\Rightarrow$ slow"
   ]
  },
  {
   "cell_type": "markdown",
   "metadata": {},
   "source": [
    "# Why is Python worth my time?\n",
    "\n",
    "* Short answer: Packages\n",
    "* Slightly longer answer: \"Because other people think it's worth theirs:\"\n",
    "* Exhibit 1: http://tensorflow.org/"
   ]
  },
  {
   "cell_type": "markdown",
   "metadata": {
    "slideshow": {
     "slide_type": "subslide"
    }
   },
   "source": [
    "# What are packages?\n",
    "\n",
    "**Versioned Software that has already been developed and released for public use**\n",
    "\n",
    "\n",
    "### Examples\n",
    "* Scientific Computing (i.e. applied Math) : Numpy, Scipy, Scikit-Learn, statsmodels, sympy, pymc\n",
    "* WebDev: Flask, Django\n",
    "\n",
    "<img src=\"https://kaggle2.blob.core.windows.net/competitions/kaggle/3428/media/scikit-learn-logo.png\">\n"
   ]
  },
  {
   "cell_type": "markdown",
   "metadata": {
    "slideshow": {
     "slide_type": "slide"
    }
   },
   "source": [
    "\n",
    "\n",
    "<img src=\"rpython.png\">"
   ]
  },
  {
   "cell_type": "markdown",
   "metadata": {
    "slideshow": {
     "slide_type": "subslide"
    }
   },
   "source": [
    "### R vs. Python\n",
    "\n",
    "* General Programming Language vs. Statistical Language\n",
    "    * Programming Paradigm differences\n",
    "* Industry vs. Academia \n",
    "* Just another tool - whichever you choose; know how to use it"
   ]
  },
  {
   "cell_type": "markdown",
   "metadata": {
    "slideshow": {
     "slide_type": "slide"
    }
   },
   "source": [
    "## Concrete examples\n",
    "\n",
    "1. data parsing\n",
    "2. Math things"
   ]
  },
  {
   "cell_type": "markdown",
   "metadata": {
    "slideshow": {
     "slide_type": "slide"
    }
   },
   "source": [
    "## Practice Time!\n",
    "\n",
    "### Choose your own Adventure\n",
    "\n",
    "1. Worksheet\n",
    "2. Codeacademy.com\n",
    "3. hackerrank.com\n",
    "4. projecteuler.org\n",
    "5. Coursera.org\n",
    "6. rosalind.org"
   ]
  }
 ],
 "metadata": {
  "celltoolbar": "Slideshow",
  "kernelspec": {
   "display_name": "Python 2",
   "language": "python",
   "name": "python2"
  },
  "language_info": {
   "codemirror_mode": {
    "name": "ipython",
    "version": 2
   },
   "file_extension": ".py",
   "mimetype": "text/x-python",
   "name": "python",
   "nbconvert_exporter": "python",
   "pygments_lexer": "ipython2",
   "version": "2.7.10"
  }
 },
 "nbformat": 4,
 "nbformat_minor": 0
}
