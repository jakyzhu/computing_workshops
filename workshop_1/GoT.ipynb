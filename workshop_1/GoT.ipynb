{
 "cells": [
  {
   "cell_type": "markdown",
   "metadata": {},
   "source": [
    "# Introduction to Python\n",
    "\n",
    "## Biostats Computing Workshop\n",
    "\n",
    "### Motivational Example"
   ]
  },
  {
   "cell_type": "markdown",
   "metadata": {},
   "source": [
    "<img src=\"http://images1.villagevoice.com/imager/u/original/6699280/got21.jpg\" style=\"width: 600px;\">"
   ]
  },
  {
   "cell_type": "code",
   "execution_count": 1,
   "metadata": {
    "collapsed": false
   },
   "outputs": [],
   "source": [
    " ## SO MANY LIBRARIES\n",
    "from bs4 import BeautifulSoup as bs ## Importing an Object!\n",
    "from urllib2 import urlopen ## Importing some functions!\n",
    "from urllib import urlretrieve\n",
    "import unicodedata\n",
    "import os\n",
    "import sys\n",
    "from __future__ import division ## Oddity with division"
   ]
  },
  {
   "cell_type": "code",
   "execution_count": 2,
   "metadata": {
    "collapsed": true
   },
   "outputs": [],
   "source": [
    "URL = \"http://www.readbooksvampire.com/George_R.R._Martin/A_Game_of_Thrones.html\" ## CAPS = GLOBAL CONSTANT"
   ]
  },
  {
   "cell_type": "code",
   "execution_count": 12,
   "metadata": {
    "collapsed": false
   },
   "outputs": [],
   "source": [
    "soup = bs(urlopen(URL)) ### Creating a 'bs' object here"
   ]
  },
  {
   "cell_type": "markdown",
   "metadata": {},
   "source": [
    "<img src=\"soup_members.png\">"
   ]
  },
  {
   "cell_type": "code",
   "execution_count": 12,
   "metadata": {
    "collapsed": false
   },
   "outputs": [
    {
     "name": "stdout",
     "output_type": "stream",
     "text": [
      "/George_R.R._Martin/A_Game_of_Thrones/01.html\n",
      "/George_R.R._Martin/A_Game_of_Thrones/02.html\n",
      "/George_R.R._Martin/A_Game_of_Thrones/03.html\n",
      "/George_R.R._Martin/A_Game_of_Thrones/04.html\n",
      "/George_R.R._Martin/A_Game_of_Thrones/05.html\n",
      "/George_R.R._Martin/A_Game_of_Thrones/06.html\n",
      "/George_R.R._Martin/A_Game_of_Thrones/07.html\n"
     ]
    }
   ],
   "source": [
    "i = 0\n",
    "# chapters = []\n",
    "for link in soup.find_all('a'): ## This is what a 'for loop' looks like in python\n",
    "    if \"George_R.R._Martin/A_Game_of_Thrones/\" in link.get('href'): # some if statements!\n",
    "        print(link.get('href'))\n",
    "        # chapters.append(link.get('href'))\n",
    "        i+=1\n",
    "    if i > 6:\n",
    "        break"
   ]
  },
  {
   "cell_type": "markdown",
   "metadata": {},
   "source": [
    "## OOOOOO LIST COMPREHENSION"
   ]
  },
  {
   "cell_type": "code",
   "execution_count": 13,
   "metadata": {
    "collapsed": false
   },
   "outputs": [
    {
     "data": {
      "text/plain": [
       "['/George_R.R._Martin/A_Game_of_Thrones/01.html',\n",
       " '/George_R.R._Martin/A_Game_of_Thrones/02.html',\n",
       " '/George_R.R._Martin/A_Game_of_Thrones/03.html',\n",
       " '/George_R.R._Martin/A_Game_of_Thrones/04.html',\n",
       " '/George_R.R._Martin/A_Game_of_Thrones/05.html']"
      ]
     },
     "execution_count": 13,
     "metadata": {},
     "output_type": "execute_result"
    }
   ],
   "source": [
    "chapters = [ link.get('href') for link in soup.find_all('a') \n",
    "            if \"George_R.R._Martin/A_Game_of_Thrones/\" in link.get('href')]\n",
    "chapters[:5]"
   ]
  },
  {
   "cell_type": "code",
   "execution_count": 14,
   "metadata": {
    "collapsed": false
   },
   "outputs": [],
   "source": [
    "## lets check this out for chapter 1\n",
    "chapter1_url = URL[:-5] + chapters[0][len(chapters[0])-8:] ## look at this fancy string slicing!!!"
   ]
  },
  {
   "cell_type": "markdown",
   "metadata": {},
   "source": [
    "```\n",
    "URL[:-5] ## gets everything but the last five characters in the string\n",
    "http://www.readbooksvampire.com/George_R.R._Martin/A_Game_of_Thrones     .html\n",
    "```"
   ]
  },
  {
   "cell_type": "markdown",
   "metadata": {},
   "source": [
    "```\n",
    "chapters[0][len(chapters[0])-8:] ## lets break this down one piece at a time\n",
    "```"
   ]
  },
  {
   "cell_type": "markdown",
   "metadata": {},
   "source": [
    "```\n",
    "chapters[0] ## this is the object holding the text string for the first chapter\n",
    ">>/George_R.R._Martin/A_Game_of_Thrones/01.html'\n",
    "```"
   ]
  },
  {
   "cell_type": "markdown",
   "metadata": {},
   "source": [
    "```\n",
    "## I'm now accessing a string object, but now I only want the last 8 characters!\n",
    "len(chapters[0]) ## gives me the entire length of the string\n",
    "len(chapters[0])-8 ## Length of string minus 8\n",
    "chapters[0][len(chapters[0])-8:] \n",
    "#Gives me the entire string of the first chapter url, starting 8 characters back\n",
    ">>/01.html\n",
    "```"
   ]
  },
  {
   "cell_type": "markdown",
   "metadata": {},
   "source": [
    "```\n",
    "URL[:-5] + chapters[0][len(chapters[0])-8:] ## I stick the two strings together with the '+' sign!\n",
    "```"
   ]
  },
  {
   "cell_type": "code",
   "execution_count": 15,
   "metadata": {
    "collapsed": false
   },
   "outputs": [
    {
     "data": {
      "text/plain": [
       "'http://www.readbooksvampire.com/George_R.R._Martin/A_Game_of_Thrones/01.html'"
      ]
     },
     "execution_count": 15,
     "metadata": {},
     "output_type": "execute_result"
    }
   ],
   "source": [
    "chapter1_url"
   ]
  },
  {
   "cell_type": "code",
   "execution_count": 16,
   "metadata": {
    "collapsed": false
   },
   "outputs": [],
   "source": [
    "soup_1 = bs(urlopen(chapter1_url)) ## Creating a Soup Object!"
   ]
  },
  {
   "cell_type": "code",
   "execution_count": 80,
   "metadata": {
    "collapsed": false
   },
   "outputs": [],
   "source": [
    "# soup_1.get_text()"
   ]
  },
  {
   "cell_type": "markdown",
   "metadata": {},
   "source": [
    "## lets get the whole book\n",
    "\n",
    "##### What would this look like in a for loop?"
   ]
  },
  {
   "cell_type": "code",
   "execution_count": 15,
   "metadata": {
    "collapsed": false
   },
   "outputs": [],
   "source": [
    "chapter_num = 1\n",
    "for chapter in chapters: ## notice the arbitrary indexing -- this is a property called __iter__ for iteration\n",
    "    chapter_num_url = URL[:-5] + chapters[0][len(chapter)-8:]\n",
    "    bs(urlopen(chapter_num_url)).get_text()"
   ]
  },
  {
   "cell_type": "markdown",
   "metadata": {},
   "source": [
    "### Lets be cool and use a list comprehension"
   ]
  },
  {
   "cell_type": "code",
   "execution_count": 29,
   "metadata": {
    "collapsed": false
   },
   "outputs": [],
   "source": [
    "def get_GoT(chapter):\n",
    "    \"\"\"\n",
    "    Returns all the GoT text within the parameter chapter\n",
    "    P.S. Docstrings are great for making sure other people\n",
    "    who read your code know what you're doing with your\n",
    "    custom functions and objects\n",
    "    \"\"\"\n",
    "    chapter_num_url = URL[:-5] + chapter[len(chapter)-8:]\n",
    "    return bs(urlopen(chapter_num_url)).get_text()"
   ]
  },
  {
   "cell_type": "code",
   "execution_count": 30,
   "metadata": {
    "collapsed": false
   },
   "outputs": [],
   "source": [
    "GoT = [get_GoT(chapter) for chapter in chapters] ## takes a couple minutes"
   ]
  },
  {
   "cell_type": "markdown",
   "metadata": {},
   "source": [
    "### Not always wise to do this, servers and their admins will be upset if you make a lot of requests in a short amount of time"
   ]
  },
  {
   "cell_type": "code",
   "execution_count": 31,
   "metadata": {
    "collapsed": false
   },
   "outputs": [
    {
     "data": {
      "text/plain": [
       "(72, 72)"
      ]
     },
     "execution_count": 31,
     "metadata": {},
     "output_type": "execute_result"
    }
   ],
   "source": [
    "len(GoT),len(chapters)"
   ]
  },
  {
   "cell_type": "code",
   "execution_count": 32,
   "metadata": {
    "collapsed": false
   },
   "outputs": [
    {
     "data": {
      "text/plain": [
       "u'\\n\\nA Game of Thrones(Song of Ice and Fire Book 1) by George R.R. Martin | Chapter One | Read Vampire '"
      ]
     },
     "execution_count": 32,
     "metadata": {},
     "output_type": "execute_result"
    }
   ],
   "source": [
    "GoT[0][:100]"
   ]
  },
  {
   "cell_type": "code",
   "execution_count": 33,
   "metadata": {
    "collapsed": false
   },
   "outputs": [
    {
     "data": {
      "text/plain": [
       "u'\\n\\nA Game of Thrones(Song of Ice and Fire Book 1) by George R.R. Martin | Chapter Seventy-two | Read '"
      ]
     },
     "execution_count": 33,
     "metadata": {},
     "output_type": "execute_result"
    }
   ],
   "source": [
    "GoT[71][:100] ## zero indexed arrays/lists"
   ]
  },
  {
   "cell_type": "code",
   "execution_count": 34,
   "metadata": {
    "collapsed": false
   },
   "outputs": [
    {
     "data": {
      "text/plain": [
       "(unicode, str)"
      ]
     },
     "execution_count": 34,
     "metadata": {},
     "output_type": "execute_result"
    }
   ],
   "source": [
    "type(GoT[0]),type(unicodedata.normalize('NFKD', GoT[0]).encode('ascii','ignore'))"
   ]
  },
  {
   "cell_type": "code",
   "execution_count": 35,
   "metadata": {
    "collapsed": true
   },
   "outputs": [],
   "source": [
    "GoT = [unicodedata.normalize('NFKD',chapter).encode('ascii','ignore') for chapter in GoT] ## Another LC!"
   ]
  },
  {
   "cell_type": "code",
   "execution_count": 102,
   "metadata": {
    "collapsed": false
   },
   "outputs": [],
   "source": [
    "!mkdir GoT"
   ]
  },
  {
   "cell_type": "code",
   "execution_count": 16,
   "metadata": {
    "collapsed": true
   },
   "outputs": [],
   "source": [
    "os.chdir(\"GoT\")"
   ]
  },
  {
   "cell_type": "code",
   "execution_count": 122,
   "metadata": {
    "collapsed": false
   },
   "outputs": [],
   "source": [
    "for chapter_num in range(1,73):\n",
    "    with open(\"Chapter \"+str(chapter_num) + \".txt\",\"w\") as chap: ## file access!\n",
    "        chap.write(GoT[chapter_num-1])"
   ]
  },
  {
   "cell_type": "code",
   "execution_count": 36,
   "metadata": {
    "collapsed": false
   },
   "outputs": [],
   "source": [
    "book_string = \"\"\n",
    "for chapter in GoT:\n",
    "    book_string += chapter"
   ]
  },
  {
   "cell_type": "code",
   "execution_count": 37,
   "metadata": {
    "collapsed": false
   },
   "outputs": [
    {
     "data": {
      "text/plain": [
       "1616629"
      ]
     },
     "execution_count": 37,
     "metadata": {},
     "output_type": "execute_result"
    }
   ],
   "source": [
    "len(book_string)"
   ]
  },
  {
   "cell_type": "code",
   "execution_count": 38,
   "metadata": {
    "collapsed": false
   },
   "outputs": [],
   "source": [
    "with open(\"GoT_bookone.txt\",\"w\") as book:\n",
    "    book.write(book_string)"
   ]
  },
  {
   "cell_type": "code",
   "execution_count": 10,
   "metadata": {
    "collapsed": false
   },
   "outputs": [
    {
     "name": "stdout",
     "output_type": "stream",
     "text": [
      "Chapter 1.txt   Chapter 23.txt  Chapter 37.txt  Chapter 50.txt  Chapter 64.txt\r\n",
      "Chapter 10.txt  Chapter 24.txt  Chapter 38.txt  Chapter 51.txt  Chapter 65.txt\r\n",
      "Chapter 11.txt  Chapter 25.txt  Chapter 39.txt  Chapter 52.txt  Chapter 66.txt\r\n",
      "Chapter 12.txt  Chapter 26.txt  Chapter 4.txt   Chapter 53.txt  Chapter 67.txt\r\n",
      "Chapter 13.txt  Chapter 27.txt  Chapter 40.txt  Chapter 54.txt  Chapter 68.txt\r\n",
      "Chapter 14.txt  Chapter 28.txt  Chapter 41.txt  Chapter 55.txt  Chapter 69.txt\r\n",
      "Chapter 15.txt  Chapter 29.txt  Chapter 42.txt  Chapter 56.txt  Chapter 7.txt\r\n",
      "Chapter 16.txt  Chapter 3.txt   Chapter 43.txt  Chapter 57.txt  Chapter 70.txt\r\n",
      "Chapter 17.txt  Chapter 30.txt  Chapter 44.txt  Chapter 58.txt  Chapter 71.txt\r\n",
      "Chapter 18.txt  Chapter 31.txt  Chapter 45.txt  Chapter 59.txt  Chapter 72.txt\r\n",
      "Chapter 19.txt  Chapter 32.txt  Chapter 46.txt  Chapter 6.txt   Chapter 8.txt\r\n",
      "Chapter 2.txt   Chapter 33.txt  Chapter 47.txt  Chapter 60.txt  Chapter 9.txt\r\n",
      "Chapter 20.txt  Chapter 34.txt  Chapter 48.txt  Chapter 61.txt  GoT_bookone.txt\r\n",
      "Chapter 21.txt  Chapter 35.txt  Chapter 49.txt  Chapter 62.txt\r\n",
      "Chapter 22.txt  Chapter 36.txt  Chapter 5.txt   Chapter 63.txt\r\n"
     ]
    }
   ],
   "source": [
    "!ls"
   ]
  },
  {
   "cell_type": "markdown",
   "metadata": {},
   "source": [
    "<img src=\"http://cdn.pastemagazine.com/www/system/images/photo_albums/game-of-thrones-memes/large/13883.jpg?1384968217\">"
   ]
  },
  {
   "cell_type": "code",
   "execution_count": 22,
   "metadata": {
    "collapsed": true
   },
   "outputs": [],
   "source": [
    "import re ## regular expressions library"
   ]
  },
  {
   "cell_type": "code",
   "execution_count": 40,
   "metadata": {
    "collapsed": false
   },
   "outputs": [
    {
     "data": {
      "text/plain": [
       "(['winter is coming',\n",
       "  'Winter is coming',\n",
       "  'Winter is coming',\n",
       "  'winter is coming',\n",
       "  'Winter is coming',\n",
       "  'Winter is coming',\n",
       "  'Winter is coming',\n",
       "  'Winter is coming',\n",
       "  'Winter is coming',\n",
       "  'winter is coming',\n",
       "  'Winter is coming'],\n",
       " 11)"
      ]
     },
     "execution_count": 40,
     "metadata": {},
     "output_type": "execute_result"
    }
   ],
   "source": [
    "wic = re.findall(\"[Ww][Ii][Nn][Tt][Ee][Rr] [Ii][Ss] [Cc][Oo][Mm][Ii][Nn][Gg]\",book_string)\n",
    "wic,len(wic)"
   ]
  },
  {
   "cell_type": "code",
   "execution_count": 41,
   "metadata": {
    "collapsed": true
   },
   "outputs": [],
   "source": [
    "Starks= \"[Ww][Ii][Nn][Tt][Ee][Rr] [Ii][Ss] [Cc][Oo][Mm][Ii][Nn][Gg]\"\n",
    "Lannisters = \"[Aa] [Ll]annister [Aa]lways [Pp]ays [Hh]is debts\"\n",
    "Lannister_actual = \"[Hh]ear [Mm]e [Rr]oar!\""
   ]
  },
  {
   "cell_type": "code",
   "execution_count": 42,
   "metadata": {
    "collapsed": true
   },
   "outputs": [],
   "source": [
    "search_string = re.compile(Starks)\n",
    "find = search_string.search(book_string)"
   ]
  },
  {
   "cell_type": "code",
   "execution_count": 43,
   "metadata": {
    "collapsed": false
   },
   "outputs": [
    {
     "data": {
      "text/plain": [
       "(21266, 21282)"
      ]
     },
     "execution_count": 43,
     "metadata": {},
     "output_type": "execute_result"
    }
   ],
   "source": [
    "find.span()"
   ]
  },
  {
   "cell_type": "code",
   "execution_count": 44,
   "metadata": {
    "collapsed": false
   },
   "outputs": [
    {
     "name": "stdout",
     "output_type": "stream",
     "text": [
      "21266\n",
      "21561\n",
      "103321\n",
      "300227\n",
      "313673\n",
      "392475\n",
      "420761\n",
      "730895\n",
      "780740\n",
      "1299233\n",
      "1299288\n"
     ]
    }
   ],
   "source": [
    "for position in search_string.finditer(book_string):\n",
    "    print position.start()"
   ]
  },
  {
   "cell_type": "code",
   "execution_count": 45,
   "metadata": {
    "collapsed": false
   },
   "outputs": [],
   "source": [
    "Stark_Positions = [position.start()/len(book_string) for position in search_string.finditer(book_string)]"
   ]
  },
  {
   "cell_type": "code",
   "execution_count": 48,
   "metadata": {
    "collapsed": true
   },
   "outputs": [],
   "source": [
    "from matplotlib import pyplot as plt\n",
    "import numpy as np\n",
    "%matplotlib inline"
   ]
  },
  {
   "cell_type": "code",
   "execution_count": 49,
   "metadata": {
    "collapsed": false,
    "scrolled": true
   },
   "outputs": [
    {
     "data": {
      "image/png": "[encoded data removed]",
      "text/plain": [
       "<matplotlib.figure.Figure at 0x1021389d0>"
      ]
     },
     "metadata": {},
     "output_type": "display_data"
    }
   ],
   "source": [
    "plt.boxplot(Stark_Positions)\n",
    "plt.title(\"Winter is Coming-Book Positions\")\n",
    "plt.ylabel(\"Relative Position in Book\")\n",
    "plt.show()"
   ]
  },
  {
   "cell_type": "code",
   "execution_count": 88,
   "metadata": {
    "collapsed": false,
    "scrolled": true
   },
   "outputs": [
    {
     "data": {
      "image/png": "[encoded data removed]",
      "text/plain": [
       "<matplotlib.figure.Figure at 0x10b4db250>"
      ]
     },
     "metadata": {},
     "output_type": "display_data"
    }
   ],
   "source": [
    "search_string = re.compile(Lannisters)\n",
    "Lannister_positions = [position.start()/len(book_string) for position in search_string.finditer(book_string)]\n",
    "plt.boxplot([Stark_Positions,Lannister_positions])\n",
    "plt.title(\"GoT Word Positions\")\n",
    "plt.xticks([1,2],[\"Stark\",\"Lannister\"])\n",
    "plt.text(1.2,np.mean(Stark_Positions),str(len(Stark_Positions)))\n",
    "plt.text(2.2,np.mean(Lannister_positions),str(len(Lannister_positions)))\n",
    "plt.ylabel(\"Relative Position in Book\")\n",
    "plt.show()"
   ]
  },
  {
   "cell_type": "code",
   "execution_count": 98,
   "metadata": {
    "collapsed": false
   },
   "outputs": [
    {
     "data": {
      "image/png": "[encoded data removed]",
      "text/plain": [
       "<matplotlib.figure.Figure at 0x10bab2a50>"
      ]
     },
     "metadata": {},
     "output_type": "display_data"
    }
   ],
   "source": [
    "search_string = re.compile(\"[Dd]warf\")\n",
    "dwarf_pos = [position.start()/len(book_string) for position in search_string.finditer(book_string)]\n",
    "plt.boxplot([dwarf_pos])\n",
    "plt.title(\"GoT Book Locations\")\n",
    "plt.xticks([1],[\"Dwarf Location\"])\n",
    "plt.text(1.2,np.mean(dwarf_pos),str(len(dwarf_pos)))\n",
    "plt.ylabel(\"Relative Position in Book\")\n",
    "plt.show()"
   ]
  },
  {
   "cell_type": "markdown",
   "metadata": {},
   "source": [
    "<img src=\"http://cdn.pastemagazine.com/www/system/images/photo_albums/game-of-thrones-memes/large/21-memes-got-hipster-jon-snow-old-gods.jpg?1384968217\">"
   ]
  },
  {
   "cell_type": "markdown",
   "metadata": {},
   "source": [
    "## bonus nltk discourse if time"
   ]
  },
  {
   "cell_type": "code",
   "execution_count": 8,
   "metadata": {
    "collapsed": false
   },
   "outputs": [],
   "source": [
    "import nltk ## another library...seriously?"
   ]
  },
  {
   "cell_type": "code",
   "execution_count": 10,
   "metadata": {
    "collapsed": false
   },
   "outputs": [],
   "source": [
    "tokens = nltk.word_tokenize(book_string)"
   ]
  },
  {
   "cell_type": "code",
   "execution_count": 60,
   "metadata": {
    "collapsed": true
   },
   "outputs": [],
   "source": [
    "from collections import Counter,OrderedDict ## This is getting ridiculous"
   ]
  },
  {
   "cell_type": "code",
   "execution_count": 30,
   "metadata": {
    "collapsed": false
   },
   "outputs": [
    {
     "data": {
      "text/plain": [
       "Counter({'raining': 4,\n",
       "         'mustachio': 3,\n",
       "         'Greyjoy': 68,\n",
       "         'yellow': 30,\n",
       "         'four': 65,\n",
       "         'woods': 40,\n",
       "         'clotted': 2,\n",
       "         'spiders': 8,\n",
       "         'ornate': 12,\n",
       "         'woody': 2,\n",
       "         'Until': 12,\n",
       "         'marching': 15,\n",
       "         'dragonbone': 9,\n",
       "         'unanswered': 1,\n",
       "         'sunlit': 1,\n",
       "         'Visitors': 1,\n",
       "         'Vengeance': 1,\n",
       "         'caned': 1,\n",
       "         'Western': 6,\n",
       "         'crossbar': 3,\n",
       "         'lord': 410,\n",
       "         'meadows': 1,\n",
       "         'sinking': 2,\n",
       "         'kennels': 5,\n",
       "         'wracked': 2,\n",
       "         'dreamers': 1,\n",
       "         'oceans': 1,\n",
       "         'bile': 1,\n",
       "         'foul': 6,\n",
       "         'Old': 99,\n",
       "         'stabbed': 7,\n",
       "         'bringing': 17,\n",
       "         'banqueting': 1,\n",
       "         'disturb': 3,\n",
       "         'prize': 2,\n",
       "         'Less': 4,\n",
       "         'wooden': 66,\n",
       "         'Jeren': 5,\n",
       "         'Emmon': 1,\n",
       "         'solid': 11,\n",
       "         'persisted': 1,\n",
       "         'Does': 18,\n",
       "         'crotch': 1,\n",
       "         'Towerso-called': 1,\n",
       "         'provided': 8,\n",
       "         'festered': 3,\n",
       "         'commented': 5,\n",
       "         'guardsmen': 39,\n",
       "         'Cradling': 1,\n",
       "         'Baelor': 14,\n",
       "         'nigh': 2,\n",
       "         'tired': 36,\n",
       "         'spell-forged': 2,\n",
       "         'hanging': 6,\n",
       "         'bacon': 8,\n",
       "         'appropriated': 1,\n",
       "         'elegant': 3,\n",
       "         'second': 69,\n",
       "         'crisply': 2,\n",
       "         'valiant': 7,\n",
       "         'sailed': 4,\n",
       "         'scraped': 4,\n",
       "         'loathing': 7,\n",
       "         'snuggled': 1,\n",
       "         'haughtily': 1,\n",
       "         'milled': 1,\n",
       "         'captain': 29,\n",
       "         'dangled': 5,\n",
       "         'Redwynes': 3,\n",
       "         'swaggering': 1,\n",
       "         'thunder': 10,\n",
       "         'cooking': 1,\n",
       "         'fingers': 184,\n",
       "         'Wrong': 1,\n",
       "         'hull': 3,\n",
       "         'pawed': 1,\n",
       "         'pressed': 33,\n",
       "         'fisherfolk': 3,\n",
       "         'hero': 6,\n",
       "         'avert': 1,\n",
       "         'chins': 2,\n",
       "         'herb': 1,\n",
       "         'Mohor': 5,\n",
       "         'leaning': 13,\n",
       "         'Straighten': 1,\n",
       "         'here': 396,\n",
       "         'herd': 6,\n",
       "         'reported': 2,\n",
       "         'hers': 34,\n",
       "         'Targaryens': 10,\n",
       "         'splinted': 1,\n",
       "         'chink': 1,\n",
       "         'strewn': 1,\n",
       "         'pretensions': 1,\n",
       "         'elaborate': 3,\n",
       "         'climbed': 43,\n",
       "         'Feathers': 1,\n",
       "         'encouragement': 2,\n",
       "         'reports': 5,\n",
       "         'Elmar': 1,\n",
       "         'powdering': 1,\n",
       "         'Farther': 3,\n",
       "         'Choosing': 1,\n",
       "         'waycastle': 3,\n",
       "         'NOW': 1,\n",
       "         'delicacy': 6,\n",
       "         'Isles': 9,\n",
       "         'rebel': 1,\n",
       "         'golden': 84,\n",
       "         'Compared': 1,\n",
       "         'vaults': 3,\n",
       "         'explained': 16,\n",
       "         'Three': 33,\n",
       "         'replace': 2,\n",
       "         'brought': 119,\n",
       "         'stern': 9,\n",
       "         'scarier': 1,\n",
       "         'presents': 2,\n",
       "         'spoke': 61,\n",
       "         'Danwell': 5,\n",
       "         'glimmering': 2,\n",
       "         'blacksmiths': 1,\n",
       "         'backing': 3,\n",
       "         'music': 17,\n",
       "         'strike': 17,\n",
       "         'heralded': 2,\n",
       "         'care': 61,\n",
       "         'until': 188,\n",
       "         'sideface': 1,\n",
       "         'whorls': 1,\n",
       "         'holy': 2,\n",
       "         'relax': 1,\n",
       "         'brings': 6,\n",
       "         'gashes': 2,\n",
       "         'whirling': 6,\n",
       "         'Rule': 1,\n",
       "         'hurt': 71,\n",
       "         'glass': 20,\n",
       "         'tying': 1,\n",
       "         'midst': 4,\n",
       "         'hold': 73,\n",
       "         'chaos': 6,\n",
       "         'circumstances': 2,\n",
       "         'Maddened': 1,\n",
       "         'intake': 1,\n",
       "         'locked': 4,\n",
       "         'dreadful': 5,\n",
       "         'Ibben': 4,\n",
       "         'blade': 106,\n",
       "         'wineskin': 4,\n",
       "         'Hollow': 1,\n",
       "         'cajoled': 1,\n",
       "         'warhorns': 2,\n",
       "         'Mern': 2,\n",
       "         'lordperfume': 1,\n",
       "         'Mere': 1,\n",
       "         'misfortunes': 1,\n",
       "         'melons': 3,\n",
       "         'owes': 3,\n",
       "         'slow-moving': 2,\n",
       "         'unjust': 1,\n",
       "         'household': 20,\n",
       "         'dragons': 43,\n",
       "         'caution': 4,\n",
       "         'want': 258,\n",
       "         'absolute': 1,\n",
       "         'groaned': 6,\n",
       "         'complaining': 1,\n",
       "         'travel': 4,\n",
       "         'drying': 1,\n",
       "         'damage': 1,\n",
       "         'Killing': 1,\n",
       "         'how': 213,\n",
       "         'hot': 61,\n",
       "         'uninvited': 2,\n",
       "         'dared': 27,\n",
       "         'blue-black': 1,\n",
       "         'preferable': 1,\n",
       "         'cadence': 1,\n",
       "         'retreating': 2,\n",
       "         'A': 726,\n",
       "         'Tobho': 7,\n",
       "         'beauty': 14,\n",
       "         'envied': 1,\n",
       "         'twenty-third': 2,\n",
       "         'shores': 3,\n",
       "         'wrong': 64,\n",
       "         'twined': 1,\n",
       "         'short-tempered': 1,\n",
       "         'Fogo': 3,\n",
       "         'Addam': 14,\n",
       "         'Centuries': 1,\n",
       "         'winy': 1,\n",
       "         'calves': 1,\n",
       "         'welts': 1,\n",
       "         'scourge': 1,\n",
       "         'Dragonlord': 2,\n",
       "         'revolt': 1,\n",
       "         'sickening': 5,\n",
       "         'wink': 1,\n",
       "         'snowballs': 2,\n",
       "         'Another': 29,\n",
       "         'keeps': 10,\n",
       "         'Tumblestone': 6,\n",
       "         'wing': 9,\n",
       "         'wind': 83,\n",
       "         'wine': 133,\n",
       "         'sprawling': 6,\n",
       "         'snugly': 1,\n",
       "         'Karstark': 32,\n",
       "         'welcomed': 10,\n",
       "         'dreamed': 15,\n",
       "         'govern': 2,\n",
       "         'feign': 1,\n",
       "         'profaned': 1,\n",
       "         'butcher': 29,\n",
       "         'Forty-one': 2,\n",
       "         'rewarded': 3,\n",
       "         'wrought': 6,\n",
       "         'His': 465,\n",
       "         'Hit': 2,\n",
       "         'fit': 25,\n",
       "         'screaming': 32,\n",
       "         'fix': 1,\n",
       "         'survivors': 7,\n",
       "         'fig': 5,\n",
       "         'nobler': 2,\n",
       "         'hidden': 27,\n",
       "         'easier': 14,\n",
       "         'undercut': 1,\n",
       "         'grievous': 9,\n",
       "         'bristle': 1,\n",
       "         'thrones': 11,\n",
       "         'wooded': 1,\n",
       "         'slicing': 2,\n",
       "         'wasteland': 3,\n",
       "         'drinking': 18,\n",
       "         'half-dozen': 3,\n",
       "         'sixteen': 12,\n",
       "         'slats': 2,\n",
       "         'silver': 131,\n",
       "         'saddened': 2,\n",
       "         'Previous23242526272829303132333435363738Next': 1,\n",
       "         'Shield': 3,\n",
       "         'clumsy': 11,\n",
       "         'blushes': 1,\n",
       "         'towered': 4,\n",
       "         'black-and-scarlet': 2,\n",
       "         'crops': 2,\n",
       "         'Hobber': 2,\n",
       "         'arrow': 27,\n",
       "         'loyalties': 3,\n",
       "         \"m'lady\": 7,\n",
       "         'preceded': 1,\n",
       "         'whim': 2,\n",
       "         'Perchance': 1,\n",
       "         'snakes': 5,\n",
       "         'woes': 1,\n",
       "         'garment': 3,\n",
       "         'spider': 4,\n",
       "         'bowls': 2,\n",
       "         'solution': 2,\n",
       "         'snaked': 1,\n",
       "         'turnip': 4,\n",
       "         'fortnight': 24,\n",
       "         'waddled': 5,\n",
       "         'whit': 1,\n",
       "         'blinded': 1,\n",
       "         'whip': 22,\n",
       "         'borne': 2,\n",
       "         'drove': 21,\n",
       "         'centaurs': 1,\n",
       "         'smirk': 2,\n",
       "         'whoosh': 1,\n",
       "         'bearclaw': 1,\n",
       "         'branch': 7,\n",
       "         'Curiosity': 1,\n",
       "         'unarmored': 2,\n",
       "         'pardons': 15,\n",
       "         'Awkwardly': 1,\n",
       "         'outburst': 1,\n",
       "         'impetuous': 1,\n",
       "         'Word': 1,\n",
       "         'assured': 9,\n",
       "         'underfoot': 6,\n",
       "         'threatened': 6,\n",
       "         'fugitive': 2,\n",
       "         'pumpkins': 2,\n",
       "         'grapes': 2,\n",
       "         'tinkled': 1,\n",
       "         'crowned': 18,\n",
       "         'estimate': 1,\n",
       "         'enormous': 1,\n",
       "         'BearIsland': 2,\n",
       "         'exposing': 1,\n",
       "         'piecemeal': 1,\n",
       "         'shelves': 2,\n",
       "         'moment': 163,\n",
       "         'scruff': 1,\n",
       "         'waned': 1,\n",
       "         'shipped': 1,\n",
       "         'disturbed': 1,\n",
       "         'tempting': 2,\n",
       "         'wobbling': 1,\n",
       "         'potions': 3,\n",
       "         'breed': 3,\n",
       "         'disfigured': 1,\n",
       "         'Please': 38,\n",
       "         'channels': 1,\n",
       "         'wash': 13,\n",
       "         'instruct': 5,\n",
       "         'red-brown': 3,\n",
       "         'elms': 1,\n",
       "         'her.': 1,\n",
       "         'bitten': 3,\n",
       "         'Man': 5,\n",
       "         'service': 24,\n",
       "         'whorehouse': 4,\n",
       "         'tsking': 1,\n",
       "         'engagement': 1,\n",
       "         'returns': 5,\n",
       "         'needed': 38,\n",
       "         'molder': 1,\n",
       "         'master': 29,\n",
       "         'legs': 108,\n",
       "         'bitter': 17,\n",
       "         'ranging': 3,\n",
       "         'rummaged': 2,\n",
       "         'listen': 52,\n",
       "         'collapse': 3,\n",
       "         'cushions': 12,\n",
       "         'frowned': 41,\n",
       "         'wisdom': 12,\n",
       "         'predictable': 1,\n",
       "         'Previous57585960616263646566676869707172Next': 1,\n",
       "         'crawl': 4,\n",
       "         'lunged': 5,\n",
       "         'positively': 1,\n",
       "         'Guardsmen': 1,\n",
       "         'trek': 1,\n",
       "         'peril': 1,\n",
       "         'showed': 21,\n",
       "         'coward': 10,\n",
       "         'Alongside': 1,\n",
       "         'tree': 46,\n",
       "         'likely': 21,\n",
       "         'idly': 3,\n",
       "         'nations': 1,\n",
       "         'shower': 3,\n",
       "         'exclaimed': 7,\n",
       "         'endure': 5,\n",
       "         'feeling': 19,\n",
       "         'groaning': 2,\n",
       "         'fevered': 1,\n",
       "         'exploring': 1,\n",
       "         'shyly': 5,\n",
       "         'spent': 17,\n",
       "         'shrubs': 1,\n",
       "         'alive': 46,\n",
       "         'dozen': 54,\n",
       "         'Ass': 1,\n",
       "         'Then': 105,\n",
       "         'forgive': 20,\n",
       "         'wed.': 2,\n",
       "         'regretting': 1,\n",
       "         'Staggering': 1,\n",
       "         'soaked': 11,\n",
       "         'nagged': 1,\n",
       "         'eagerly': 15,\n",
       "         'metallic': 2,\n",
       "         'absorbed': 2,\n",
       "         'amusing': 5,\n",
       "         'They': 442,\n",
       "         'Ask': 5,\n",
       "         'castellan': 2,\n",
       "         'Bank': 1,\n",
       "         'disdainfully': 1,\n",
       "         'horselords': 7,\n",
       "         'Wise': 2,\n",
       "         'committing': 1,\n",
       "         'lithely': 1,\n",
       "         'shall': 141,\n",
       "         'thrilled': 2,\n",
       "         'object': 2,\n",
       "         'looming': 15,\n",
       "         \"'m\": 167,\n",
       "         'affirmation': 1,\n",
       "         'mouth': 135,\n",
       "         'letter': 63,\n",
       "         'entry': 4,\n",
       "         'relieving': 1,\n",
       "         'WheelTower': 2,\n",
       "         'laughing': 30,\n",
       "         'dummy': 1,\n",
       "         'singer': 35,\n",
       "         'Staggered': 1,\n",
       "         'grove': 6,\n",
       "         'camp': 32,\n",
       "         'singed': 1,\n",
       "         'braying': 1,\n",
       "         'ugliest': 3,\n",
       "         'greenwoods': 1,\n",
       "         'mating': 2,\n",
       "         'scream': 23,\n",
       "         'came': 316,\n",
       "         'saying': 53,\n",
       "         'reclined': 2,\n",
       "         'meetings': 2,\n",
       "         'droppings': 1,\n",
       "         'padded': 18,\n",
       "         'Lhazareen': 4,\n",
       "         'Raymun': 14,\n",
       "         'Daryn': 4,\n",
       "         'tempted': 1,\n",
       "         'cheaply': 1,\n",
       "         'abreast': 5,\n",
       "         'hounded': 1,\n",
       "         'lessons': 6,\n",
       "         'capes': 1,\n",
       "         'touches': 1,\n",
       "         'busy': 5,\n",
       "         'clicked': 6,\n",
       "         'lazing': 1,\n",
       "         'shuffling': 1,\n",
       "         'buxom': 1,\n",
       "         'Banefort': 1,\n",
       "         'bush': 3,\n",
       "         'touched': 61,\n",
       "         'rich': 29,\n",
       "         'Mollen': 17,\n",
       "         'greatsword': 16,\n",
       "         'arakh': 25,\n",
       "         'pocked': 4,\n",
       "         'plate': 41,\n",
       "         'Presters': 1,\n",
       "         'cartwheels': 1,\n",
       "         'Marillion': 26,\n",
       "         'denounce': 2,\n",
       "         'terrors': 1,\n",
       "         'foremost': 1,\n",
       "         'pocket': 6,\n",
       "         'cushion': 4,\n",
       "         'altogether': 4,\n",
       "         'rugged': 1,\n",
       "         'relish': 3,\n",
       "         'sers': 2,\n",
       "         'lurches': 1,\n",
       "         'half-submerged': 1,\n",
       "         'spilling': 6,\n",
       "         'nicely': 8,\n",
       "         'blanched': 1,\n",
       "         'avenged': 1,\n",
       "         'lurched': 14,\n",
       "         'flanked': 4,\n",
       "         'release': 3,\n",
       "         'green-and-bronze': 1,\n",
       "         'boarded': 1,\n",
       "         'Clearly': 2,\n",
       "         'respond': 3,\n",
       "         'blew': 16,\n",
       "         'fair': 31,\n",
       "         'consummation': 1,\n",
       "         '.if': 1,\n",
       "         'deemed': 3,\n",
       "         'unexpectedly': 1,\n",
       "         'bled': 2,\n",
       "         'flaxen': 1,\n",
       "         'result': 2,\n",
       "         'silver-and-purple': 1,\n",
       "         'fail': 4,\n",
       "         'resigned': 1,\n",
       "         'skulls': 9,\n",
       "         'Dogs': 3,\n",
       "         'gift-givers': 1,\n",
       "         'Dwarf': 2,\n",
       "         'lots': 2,\n",
       "         'fanged': 1,\n",
       "         'rings': 16,\n",
       "         'solicitude': 1,\n",
       "         'Porther': 6,\n",
       "         'score': 3,\n",
       "         'scorn': 2,\n",
       "         'preserve': 2,\n",
       "         'claws': 8,\n",
       "         'splinter': 1,\n",
       "         'khaleesi': 19,\n",
       "         'nature': 5,\n",
       "         'rolled': 25,\n",
       "         'smelled': 24,\n",
       "         'lapping': 3,\n",
       "         'Bronn': 119,\n",
       "         'twinkling': 1,\n",
       "         'horseflesh': 8,\n",
       "         'medallion': 6,\n",
       "         'defiance': 2,\n",
       "         'debt': 5,\n",
       "         'pity': 20,\n",
       "         'accident': 2,\n",
       "         'trickster': 1,\n",
       "         'Logs': 2,\n",
       "         'weirwood': 17,\n",
       "         'disdain': 5,\n",
       "         'country': 5,\n",
       "         'pits': 3,\n",
       "         'Blessed': 4,\n",
       "         'askew': 1,\n",
       "         'Direwolves': 2,\n",
       "         'planned': 7,\n",
       "         'hated': 19,\n",
       "         'argue': 4,\n",
       "         'asked': 272,\n",
       "         'fearlessly': 1,\n",
       "         'mortified': 3,\n",
       "         'Howland': 4,\n",
       "         'fissures': 1,\n",
       "         'unprotected': 2,\n",
       "         'gleaming': 6,\n",
       "         'pregnancy': 1,\n",
       "         'Sorry': 3,\n",
       "         'grazing': 1,\n",
       "         'armored': 24,\n",
       "         'shouting': 37,\n",
       "         'holdings': 2,\n",
       "         'shriek': 5,\n",
       "         'remained': 32,\n",
       "         '.': 25270,\n",
       "         'breathlessly': 1,\n",
       "         'much': 192,\n",
       "         'fry': 2,\n",
       "         'Flowers': 22,\n",
       "         'tallest': 4,\n",
       "         'Wendish': 4,\n",
       "         'life': 163,\n",
       "         'crying': 18,\n",
       "         'spit': 19,\n",
       "         'Mothers': 3,\n",
       "         'onyx': 6,\n",
       "         'athwart': 1,\n",
       "         'dragonspawn': 4,\n",
       "         'joust': 7,\n",
       "         'lift': 18,\n",
       "         'direwolf': 96,\n",
       "         'child': 150,\n",
       "         'worked': 18,\n",
       "         'spin': 1,\n",
       "         'cunt': 1,\n",
       "         'wildcat': 1,\n",
       "         'Chips': 1,\n",
       "         'taper': 1,\n",
       "         'rests': 1,\n",
       "         'Previous51525354555657585960616263646566Next': 1,\n",
       "         'hates': 4,\n",
       "         'flooding': 1,\n",
       "         'skirts': 7,\n",
       "         'remembering': 19,\n",
       "         'played': 11,\n",
       "         'Swyft': 4,\n",
       "         'hunkered': 1,\n",
       "         'piercing': 1,\n",
       "         'taunts': 2,\n",
       "         'eighteen': 10,\n",
       "         'Sword': 6,\n",
       "         'Sworn': 10,\n",
       "         'trusted': 9,\n",
       "         'golds': 1,\n",
       "         'credit': 3,\n",
       "         'things': 98,\n",
       "         'Oh': 88,\n",
       "         'oozed': 2,\n",
       "         'rebellion': 3,\n",
       "         'split': 13,\n",
       "         'babies': 3,\n",
       "         'big': 68,\n",
       "         'supped': 1,\n",
       "         'boiled': 16,\n",
       "         'marches': 2,\n",
       "         'Maybe': 20,\n",
       "         'pitchforks': 1,\n",
       "         'firepit': 6,\n",
       "         'refit': 1,\n",
       "         'dexterous': 1,\n",
       "         'marched': 11,\n",
       "         'astonishingly': 1,\n",
       "         'Apples': 1,\n",
       "         'supper': 14,\n",
       "         'metalwork': 1,\n",
       "         'haggard': 3,\n",
       "         'tune': 4,\n",
       "         'Martyn': 3,\n",
       "         'askance': 1,\n",
       "         'Cruel': 3,\n",
       "         'echoed': 21,\n",
       "         'climber': 1,\n",
       "         'stillness': 1,\n",
       "         'coldness': 4,\n",
       "         'snowmelt': 1,\n",
       "         'echoes': 5,\n",
       "         'veils': 1,\n",
       "         'eyebrows': 1,\n",
       "         'spurred': 11,\n",
       "         'solace': 1,\n",
       "         'Thank': 21,\n",
       "         'sleeps': 1,\n",
       "         'masons': 2,\n",
       "         'sleepy': 6,\n",
       "         'forsaken': 1,\n",
       "         'half-starved': 1,\n",
       "         'uncombed': 1,\n",
       "         'slayers': 1,\n",
       "         'rushing': 11,\n",
       "         'succeeding': 1,\n",
       "         'previous': 3,\n",
       "         'wandered': 6,\n",
       "         'haj': 1,\n",
       "         'enters': 1,\n",
       "         'ham': 5,\n",
       "         'beef-and-bacon': 1,\n",
       "         'Offer': 1,\n",
       "         'ease': 6,\n",
       "         'had': 2811,\n",
       "         'Wardens': 3,\n",
       "         'cast-outs': 1,\n",
       "         'hay': 3,\n",
       "         'Surely': 12,\n",
       "         'innocent': 13,\n",
       "         'east': 42,\n",
       "         'hat': 3,\n",
       "         'Apart': 1,\n",
       "         'abashed': 5,\n",
       "         'casually': 6,\n",
       "         'desertions': 1,\n",
       "         'possible': 6,\n",
       "         'lengthen': 1,\n",
       "         'possibly': 4,\n",
       "         'bathwaters': 1,\n",
       "         'birth': 10,\n",
       "         'clustered': 2,\n",
       "         'shadow': 68,\n",
       "         'summons': 5,\n",
       "         'bushy': 1,\n",
       "         'desire': 3,\n",
       "         'Lords': 17,\n",
       "         'strengths': 3,\n",
       "         'obvious': 5,\n",
       "         'undertunic': 3,\n",
       "         'remind': 12,\n",
       "         'steps': 76,\n",
       "         'Previous15161718192021222324252627282930Next': 1,\n",
       "         'grotesquely': 2,\n",
       "         'guests': 6,\n",
       "         'battlefield': 4,\n",
       "         'right': 170,\n",
       "         'old': 300,\n",
       "         'creek': 1,\n",
       "         'crowd': 21,\n",
       "         'night-eyes': 1,\n",
       "         'crown': 34,\n",
       "         'begin': 25,\n",
       "         'crows': 20,\n",
       "         'baseborn': 5,\n",
       "         'Whatever': 22,\n",
       "         'Between': 10,\n",
       "         'left.': 1,\n",
       "         'Smell': 1,\n",
       "         'guttering': 1,\n",
       "         'creep': 1,\n",
       "         'enemies': 27,\n",
       "         'gasps': 2,\n",
       "         'perchance': 5,\n",
       "         'ruffled': 4,\n",
       "         'for': 1569,\n",
       "         'bottom': 15,\n",
       "         'fox': 2,\n",
       "         'killing': 13,\n",
       "         'plucked': 9,\n",
       "         'foe': 13,\n",
       "         'fog': 3,\n",
       "         'summoned': 14,\n",
       "         'serpents': 1,\n",
       "         'Royce': 20,\n",
       "         'pinched': 2,\n",
       "         'ever-so-subtle': 1,\n",
       "         'Alia': 1,\n",
       "         'shifting': 3,\n",
       "         'losing': 9,\n",
       "         'bowing': 9,\n",
       "         'Think': 5,\n",
       "         'stableboys': 4,\n",
       "         'First': 48,\n",
       "         'Suckling': 1,\n",
       "         'restlessness': 1,\n",
       "         'benches': 11,\n",
       "         'visitors': 8,\n",
       "         'grievously': 1,\n",
       "         'o': 4,\n",
       "         'despair': 5,\n",
       "         'lacked': 3,\n",
       "         'plainfaced': 1,\n",
       "         'slightly': 3,\n",
       "         'Targaryen': 69,\n",
       "         'hulking': 2,\n",
       "         'raised': 65,\n",
       "         'sob': 7,\n",
       "         'Missed': 1,\n",
       "         'scythes': 4,\n",
       "         'nought': 1,\n",
       "         'disentangled': 3,\n",
       "         'brutes': 1,\n",
       "         'son': 284,\n",
       "         'Few': 3,\n",
       "         'Forty-three': 2,\n",
       "         'wrap': 3,\n",
       "         'despised': 2,\n",
       "         'fabric': 4,\n",
       "         'waits': 1,\n",
       "         'altitude': 1,\n",
       "         'constantly': 1,\n",
       "         'Hand': 154,\n",
       "         'avail': 1,\n",
       "         'Blackfish': 16,\n",
       "         'grasping': 5,\n",
       "         'innkeeps': 1,\n",
       "         'halls': 15,\n",
       "         'overhang': 1,\n",
       "         'grooms': 3,\n",
       "         'perfumes': 4,\n",
       "         'offer': 23,\n",
       "         'fascination': 6,\n",
       "         'forming': 1,\n",
       "         'tigers': 2,\n",
       "         'hot-tempered': 2,\n",
       "         'canopied': 1,\n",
       "         'shrilly': 2,\n",
       "         'Eel': 1,\n",
       "         'perfumed': 4,\n",
       "         'caromed': 1,\n",
       "         'sprinting': 3,\n",
       "         'duel': 6,\n",
       "         'suspect': 5,\n",
       "         'rippling': 8,\n",
       "         'inside': 81,\n",
       "         'devices': 1,\n",
       "         'monkey-tail': 1,\n",
       "         'vanguard': 6,\n",
       "         'nicest': 1,\n",
       "         'smashed': 15,\n",
       "         'Damn': 22,\n",
       "         'panels': 1,\n",
       "         'yelped': 2,\n",
       "         'disgrace': 7,\n",
       "         'Sit': 7,\n",
       "         'wetness': 4,\n",
       "         'Six': 13,\n",
       "         \"''\": 7830,\n",
       "         'exist': 1,\n",
       "         'curious': 18,\n",
       "         'splotch': 1,\n",
       "         'Fifty': 5,\n",
       "         'sympathy': 1,\n",
       "         'dealer': 1,\n",
       "         'crutches': 1,\n",
       "         'aurochs': 9,\n",
       "         'protested': 7,\n",
       "         'dotted': 3,\n",
       "         'floor': 59,\n",
       "         'glacier': 1,\n",
       "         'Vhaghar': 3,\n",
       "         'crowns': 1,\n",
       "         'uttered': 1,\n",
       "         'flood': 1,\n",
       "         'warms': 1,\n",
       "         'role': 2,\n",
       "         'ambitious': 2,\n",
       "         'snick': 1,\n",
       "         'smell': 41,\n",
       "         'roll': 7,\n",
       "         'Cracks': 1,\n",
       "         \"'s\": 2672,\n",
       "         'hurled': 2,\n",
       "         'palms': 3,\n",
       "         'sortie': 2,\n",
       "         'hawked': 1,\n",
       "         'intimate': 1,\n",
       "         'Summon': 2,\n",
       "         'maimed': 3,\n",
       "         'comely': 1,\n",
       "         'intent': 9,\n",
       "         'smelling': 1,\n",
       "         'rolling': 16,\n",
       "         'cleaver': 2,\n",
       "         'entrust': 2,\n",
       "         'lunge': 1,\n",
       "         'fastened': 14,\n",
       "         'Inform': 1,\n",
       "         'happenstance': 2,\n",
       "         'sniffed': 15,\n",
       "         'openmouthed': 1,\n",
       "         'time': 388,\n",
       "         'push': 5,\n",
       "         'banners': 52,\n",
       "         'gown': 21,\n",
       "         'spat.': 1,\n",
       "         'chain': 35,\n",
       "         'whoever': 3,\n",
       "         'resources': 1,\n",
       "         'avalanche': 3,\n",
       "         'Sullen': 1,\n",
       "         'doted': 1,\n",
       "         'chair': 32,\n",
       "         'hole': 10,\n",
       "         'Goldengrove': 1,\n",
       "         'uneven': 4,\n",
       "         'rambling': 1,\n",
       "         'timbered': 6,\n",
       "         'rousing': 1,\n",
       "         'vex': 2,\n",
       "         'balled': 2,\n",
       "         'grappled': 1,\n",
       "         'Lighting': 1,\n",
       "         'carpenters': 3,\n",
       "         'blustering': 1,\n",
       "         'veterans': 1,\n",
       "         'dragonfly': 1,\n",
       "         'jerk': 2,\n",
       "         'trading': 8,\n",
       "         'Yield': 3,\n",
       "         'choice': 48,\n",
       "         'Heddle': 7,\n",
       "         'gloomy': 5,\n",
       "         'mourn': 2,\n",
       "         'fatigued': 1,\n",
       "         'stays': 1,\n",
       "         'pranced': 2,\n",
       "         'fretting': 3,\n",
       "         'exact': 1,\n",
       "         'sun-browned': 1,\n",
       "         'minute': 2,\n",
       "         'pillowed': 1,\n",
       "         'cooks': 9,\n",
       "         'reining': 2,\n",
       "         'tear': 13,\n",
       "         'Fifteen': 6,\n",
       "         'teat': 1,\n",
       "         'leave': 132,\n",
       "         'settle': 6,\n",
       "         'skewer': 3,\n",
       "         'unaware': 2,\n",
       "         'prevent': 1,\n",
       "         'accomplishment': 1,\n",
       "         'findings': 1,\n",
       "         'insignificant': 1,\n",
       "         'plunged': 10,\n",
       "         'soft-spoken': 1,\n",
       "         'sign': 13,\n",
       "         'chopping': 2,\n",
       "         'shirts': 6,\n",
       "         'handscarf': 1,\n",
       "         'Rhaggat': 3,\n",
       "         'coppers': 9,\n",
       "         'axes': 8,\n",
       "         'entrusts': 1,\n",
       "         'deep-cut': 1,\n",
       "         'melt': 6,\n",
       "         'current': 5,\n",
       "         'hamstringing': 1,\n",
       "         'lazily': 2,\n",
       "         'view': 12,\n",
       "         'Brorm': 2,\n",
       "         'falling': 32,\n",
       "         'ground': 107,\n",
       "         'badge': 8,\n",
       "         'Me': 6,\n",
       "         'drafted': 1,\n",
       "         'Dates': 1,\n",
       "         'sweeter': 4,\n",
       "         'blunted': 2,\n",
       "         'funeral': 5,\n",
       "         'plucking': 1,\n",
       "         'understanding': 2,\n",
       "         'contemplate': 4,\n",
       "         'thwacks': 1,\n",
       "         'snack': 3,\n",
       "         'yards': 3,\n",
       "         'address': 2,\n",
       "         'alone': 104,\n",
       "         'along': 84,\n",
       "         'My': 288,\n",
       "         'hurtling': 2,\n",
       "         'summerwine': 5,\n",
       "         'One-armed': 2,\n",
       "         'brilliant': 1,\n",
       "         'studied': 24,\n",
       "         'wherever': 7,\n",
       "         'commonly': 1,\n",
       "         'Born': 1,\n",
       "         'accomplished': 1,\n",
       "         'sprouted': 1,\n",
       "         'MY': 1,\n",
       "         'reclaim': 1,\n",
       "         'respite': 2,\n",
       "         'Shattered': 2,\n",
       "         'tasks': 2,\n",
       "         'love': 100,\n",
       "         'bloods': 1,\n",
       "         'Lie': 1,\n",
       "         'cacophony': 2,\n",
       "         'prefer': 13,\n",
       "         'bloody': 42,\n",
       "         'marvelous': 2,\n",
       "         'Enough': 12,\n",
       "         'betraying': 2,\n",
       "         'crime': 9,\n",
       "         'sky': 70,\n",
       "         'crammed': 1,\n",
       "         'fresher': 1,\n",
       "         'working': 7,\n",
       "         'perished': 1,\n",
       "         'whittled': 1,\n",
       "         'angry': 43,\n",
       "         'tightly': 16,\n",
       "         'by': 647,\n",
       "         'sisterly': 1,\n",
       "         'filmy': 1,\n",
       "         'opposed': 1,\n",
       "         'wondering': 31,\n",
       "         'shouldered': 4,\n",
       "         'sunburst': 6,\n",
       "         'pavilions': 7,\n",
       "         'loving': 4,\n",
       "         'scratched': 9,\n",
       "         '``': 8164,\n",
       "         'guardsman': 15,\n",
       "         'consoled': 1,\n",
       "         'afford': 4,\n",
       "         'Dontos': 2,\n",
       "         'tines': 2,\n",
       "         'Rivers': 3,\n",
       "         'scratches': 3,\n",
       "         'riders': 49,\n",
       "         'behalf': 1,\n",
       "         'honey': 20,\n",
       "         'wool': 25,\n",
       "         'deserved': 3,\n",
       "         'pretend': 9,\n",
       "         'privy': 1,\n",
       "         'inflamed': 1,\n",
       "         'believes': 2,\n",
       "         'stature': 1,\n",
       "         'believed': 22,\n",
       "         'Our': 29,\n",
       "         'indolence': 1,\n",
       "         'pumpkin': 1,\n",
       "         'Out': 8,\n",
       "         'pillageand': 1,\n",
       "         'Holding': 1,\n",
       "         'mirrors': 1,\n",
       "         'Anointed': 1,\n",
       "         'weasels': 1,\n",
       "         'wrenched': 24,\n",
       "         'hides': 4,\n",
       "         'allowed': 22,\n",
       "         'Matthar': 5,\n",
       "         'offense': 4,\n",
       "         'Aegon': 26,\n",
       "         'stole': 6,\n",
       "         'listens': 1,\n",
       "         'winter': 33,\n",
       "         'savor': 2,\n",
       "         'divided': 2,\n",
       "         'Who': 50,\n",
       "         'poking': 4,\n",
       "         'iron-grey': 1,\n",
       "         'thanking': 1,\n",
       "         'Symeon': 1,\n",
       "         'Oswell': 4,\n",
       "         'Why': 130,\n",
       "         'annoyed': 4,\n",
       "         'spot': 10,\n",
       "         'Tomard': 16,\n",
       "         'explored': 1,\n",
       "         'such': 75,\n",
       "         'suck': 5,\n",
       "         'filthy': 10,\n",
       "         'reined': 14,\n",
       "         'natural': 6,\n",
       "         'Thirty-nine': 2,\n",
       "         'conscious': 5,\n",
       "         'ordinarily': 1,\n",
       "         'darkened': 8,\n",
       "         'Catching': 1,\n",
       "         'so': 766,\n",
       "         'tangled': 15,\n",
       "         'swollen': 14,\n",
       "         'wolves': 32,\n",
       "         'Harwin': 14,\n",
       "         'pulled': 103,\n",
       "         'Mole': 8,\n",
       "         'scents': 4,\n",
       "         'drunken': 14,\n",
       "         'oak-and-bronze': 1,\n",
       "         ...})"
      ]
     },
     "execution_count": 30,
     "metadata": {},
     "output_type": "execute_result"
    }
   ],
   "source": [
    "word_freq = Counter(tokens) ## example of dictionary\n",
    "word_freq"
   ]
  },
  {
   "cell_type": "code",
   "execution_count": 28,
   "metadata": {
    "collapsed": false
   },
   "outputs": [
    {
     "data": {
      "text/plain": [
       "[('.', 25270),\n",
       " (',', 20777),\n",
       " ('the', 14940),\n",
       " ('and', 8551),\n",
       " ('``', 8164),\n",
       " (\"''\", 7830),\n",
       " ('to', 6442),\n",
       " ('of', 6195),\n",
       " ('a', 5766),\n",
       " ('his', 4529)]"
      ]
     },
     "execution_count": 28,
     "metadata": {},
     "output_type": "execute_result"
    }
   ],
   "source": [
    "word_freq.most_common()[:10]"
   ]
  },
  {
   "cell_type": "code",
   "execution_count": 78,
   "metadata": {
    "collapsed": false
   },
   "outputs": [],
   "source": [
    "top_nouns = {}\n",
    "top_adjectives = {}\n",
    "for word,freq in word_freq.most_common()[:1000]:\n",
    "    if nltk.pos_tag(nltk.word_tokenize(word))[0][1] == \"NN\": ## getting nouns\n",
    "        top_nouns[word] = freq\n",
    "    elif nltk.pos_tag(nltk.word_tokenize(word))[0][1] == \"JJ\": ## getting adjectives\n",
    "        top_adjectives[word] = freq"
   ]
  },
  {
   "cell_type": "code",
   "execution_count": 107,
   "metadata": {
    "collapsed": false
   },
   "outputs": [],
   "source": [
    "ordered_top_nouns = OrderedDict(sorted(top_nouns.items(), key=lambda x: x[1], reverse=True))\n",
    "ordered_top_adjectives = OrderedDict(sorted(top_adjectives.items(),key=lambda x: x[1], reverse=True))"
   ]
  },
  {
   "cell_type": "code",
   "execution_count": 111,
   "metadata": {
    "collapsed": false
   },
   "outputs": [
    {
     "data": {
      "image/png": "[encoded data removed]",
      "text/plain": [
       "<matplotlib.figure.Figure at 0x113d17110>"
      ]
     },
     "metadata": {},
     "output_type": "display_data"
    }
   ],
   "source": [
    "plt.bar(np.arange(5),ordered_top_nouns.values()[:5])\n",
    "plt.xticks(np.arange(5)+.5,ordered_top_nouns.keys()[:5])\n",
    "plt.title(\"Top Nouns in GoT\")\n",
    "plt.xlabel(\"Word\")\n",
    "plt.ylabel(\"Frequency\")\n",
    "plt.show()"
   ]
  },
  {
   "cell_type": "code",
   "execution_count": 114,
   "metadata": {
    "collapsed": false
   },
   "outputs": [
    {
     "data": {
      "image/png": "[encoded data removed]",
      "text/plain": [
       "<matplotlib.figure.Figure at 0x1136a3410>"
      ]
     },
     "metadata": {},
     "output_type": "display_data"
    }
   ],
   "source": [
    "plt.bar(np.arange(5),ordered_top_adjectives.values()[:5])\n",
    "plt.xticks(np.arange(5)+.5,ordered_top_adjectives.keys()[:5])\n",
    "plt.title(\"Top Adjectives in GoT\")\n",
    "plt.xlabel(\"Word\")\n",
    "plt.ylabel(\"Frequency\")\n",
    "plt.show()"
   ]
  }
 ],
 "metadata": {
  "kernelspec": {
   "display_name": "Python 2",
   "language": "python",
   "name": "python2"
  },
  "language_info": {
   "codemirror_mode": {
    "name": "ipython",
    "version": 2
   },
   "file_extension": ".py",
   "mimetype": "text/x-python",
   "name": "python",
   "nbconvert_exporter": "python",
   "pygments_lexer": "ipython2",
   "version": "2.7.10"
  }
 },
 "nbformat": 4,
 "nbformat_minor": 0
}
