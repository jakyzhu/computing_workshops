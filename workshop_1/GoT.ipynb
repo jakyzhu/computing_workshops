{
 "cells": [
  {
   "cell_type": "markdown",
   "metadata": {},
   "source": [
    "# Introduction to Python\n",
    "\n",
    "## Biostats Computing Workshop\n",
    "\n",
    "### Motivational Example"
   ]
  },
  {
   "cell_type": "markdown",
   "metadata": {},
   "source": [
    "<img src=\"http://images1.villagevoice.com/imager/u/original/6699280/got21.jpg\" style=\"width: 600px;\">"
   ]
  },
  {
   "cell_type": "code",
   "execution_count": 5,
   "metadata": {
    "collapsed": false
   },
   "outputs": [],
   "source": [
    " ## SO MANY LIBRARIES\n",
    "from bs4 import BeautifulSoup as bs ## Importing an Object!\n",
    "import urlparse \n",
    "from urllib2 import urlopen ## Importing some functions!\n",
    "from urllib import urlretrieve\n",
    "import unicodedata\n",
    "import os\n",
    "import sys\n",
    "from __future__ import division ## Oddity with division"
   ]
  },
  {
   "cell_type": "code",
   "execution_count": 9,
   "metadata": {
    "collapsed": true
   },
   "outputs": [],
   "source": [
    "URL = \"http://www.readbooksvampire.com/George_R.R._Martin/A_Game_of_Thrones.html\" ## CAPS = GLOBAL CONSTANT"
   ]
  },
  {
   "cell_type": "code",
   "execution_count": 10,
   "metadata": {
    "collapsed": false
   },
   "outputs": [],
   "source": [
    "soup = bs(urlopen(URL)) ### Creating a 'bs' object here"
   ]
  },
  {
   "cell_type": "code",
   "execution_count": 11,
   "metadata": {
    "collapsed": false
   },
   "outputs": [],
   "source": [
    "parsed = list(urlparse.urlparse(URL)) ## list is the Python ordered array data structure"
   ]
  },
  {
   "cell_type": "code",
   "execution_count": 12,
   "metadata": {
    "collapsed": false
   },
   "outputs": [
    {
     "name": "stdout",
     "output_type": "stream",
     "text": [
      "/George_R.R._Martin/A_Game_of_Thrones/01.html\n",
      "/George_R.R._Martin/A_Game_of_Thrones/02.html\n",
      "/George_R.R._Martin/A_Game_of_Thrones/03.html\n",
      "/George_R.R._Martin/A_Game_of_Thrones/04.html\n",
      "/George_R.R._Martin/A_Game_of_Thrones/05.html\n",
      "/George_R.R._Martin/A_Game_of_Thrones/06.html\n",
      "/George_R.R._Martin/A_Game_of_Thrones/07.html\n"
     ]
    }
   ],
   "source": [
    "i = 0\n",
    "# chapters = []\n",
    "for link in soup.find_all('a'): ## This is what a 'for loop' looks like in python\n",
    "    if \"George_R.R._Martin/A_Game_of_Thrones/\" in link.get('href'): # some if statements!\n",
    "        print(link.get('href'))\n",
    "        # chapters.append(link.get('href'))\n",
    "        i+=1\n",
    "    if i > 6:\n",
    "        break"
   ]
  },
  {
   "cell_type": "markdown",
   "metadata": {},
   "source": [
    "## OOOOOO LIST COMPREHENSION"
   ]
  },
  {
   "cell_type": "code",
   "execution_count": 13,
   "metadata": {
    "collapsed": false
   },
   "outputs": [
    {
     "data": {
      "text/plain": [
       "['/George_R.R._Martin/A_Game_of_Thrones/01.html',\n",
       " '/George_R.R._Martin/A_Game_of_Thrones/02.html',\n",
       " '/George_R.R._Martin/A_Game_of_Thrones/03.html',\n",
       " '/George_R.R._Martin/A_Game_of_Thrones/04.html',\n",
       " '/George_R.R._Martin/A_Game_of_Thrones/05.html']"
      ]
     },
     "execution_count": 13,
     "metadata": {},
     "output_type": "execute_result"
    }
   ],
   "source": [
    "chapters = [ link.get('href') for link in soup.find_all('a') \n",
    "            if \"George_R.R._Martin/A_Game_of_Thrones/\" in link.get('href')]\n",
    "chapters[:5]"
   ]
  },
  {
   "cell_type": "code",
   "execution_count": 14,
   "metadata": {
    "collapsed": false
   },
   "outputs": [],
   "source": [
    "## lets check this out for chapter 1\n",
    "chapter1_url = URL[:-5] + chapters[0][len(chapters[0])-8:] ## look at this fancy string slicing!!!"
   ]
  },
  {
   "cell_type": "markdown",
   "metadata": {},
   "source": [
    "```\n",
    "URL[:-5] ## gets everything but the last five characters in the string\n",
    "http://www.readbooksvampire.com/George_R.R._Martin/A_Game_of_Thrones     .html\n",
    "```"
   ]
  },
  {
   "cell_type": "markdown",
   "metadata": {},
   "source": [
    "```\n",
    "chapters[0][len(chapters[0])-8:] ## lets break this down one piece at a time\n",
    "```"
   ]
  },
  {
   "cell_type": "markdown",
   "metadata": {},
   "source": [
    "```\n",
    "chapters[0] ## this is the object holding the text string for the first chapter\n",
    ">>/George_R.R._Martin/A_Game_of_Thrones/01.html'\n",
    "```"
   ]
  },
  {
   "cell_type": "markdown",
   "metadata": {},
   "source": [
    "```\n",
    "## I'm now accessing a string object, but now I only want the last 8 characters!\n",
    "len(chapters[0]) ## gives me the entire length of the string\n",
    "len(chapters[0])-8 ## Length of string minus 8\n",
    "chapters[0][len(chapters[0])-8:] \n",
    "#Gives me the entire string of the first chapter url, starting 8 characters back\n",
    ">>/01.html\n",
    "```"
   ]
  },
  {
   "cell_type": "markdown",
   "metadata": {},
   "source": [
    "```\n",
    "URL[:-5] + chapters[0][len(chapters[0])-8:] ## I stick the two strings together with the '+' sign!\n",
    "```"
   ]
  },
  {
   "cell_type": "code",
   "execution_count": 15,
   "metadata": {
    "collapsed": false
   },
   "outputs": [
    {
     "data": {
      "text/plain": [
       "'http://www.readbooksvampire.com/George_R.R._Martin/A_Game_of_Thrones/01.html'"
      ]
     },
     "execution_count": 15,
     "metadata": {},
     "output_type": "execute_result"
    }
   ],
   "source": [
    "chapter1_url"
   ]
  },
  {
   "cell_type": "code",
   "execution_count": 16,
   "metadata": {
    "collapsed": false
   },
   "outputs": [],
   "source": [
    "soup_1 = bs(urlopen(chapter1_url)) ## Creating a Soup Object!"
   ]
  },
  {
   "cell_type": "code",
   "execution_count": 80,
   "metadata": {
    "collapsed": false
   },
   "outputs": [],
   "source": [
    "# soup_1.get_text()"
   ]
  },
  {
   "cell_type": "markdown",
   "metadata": {},
   "source": [
    "## lets get the whole book\n",
    "\n",
    "##### What would this look like in a for loop?"
   ]
  },
  {
   "cell_type": "code",
   "execution_count": 15,
   "metadata": {
    "collapsed": false
   },
   "outputs": [],
   "source": [
    "chapter_num = 1\n",
    "for chapter in chapters: ## notice the arbitrary indexing -- this is a property called __iter__ for iteration\n",
    "    chapter_num_url = URL[:-5] + chapters[0][len(chapter)-8:]\n",
    "    bs(urlopen(chapter_num_url)).get_text()"
   ]
  },
  {
   "cell_type": "markdown",
   "metadata": {},
   "source": [
    "### Lets be cool and use a list comprehension"
   ]
  },
  {
   "cell_type": "code",
   "execution_count": 29,
   "metadata": {
    "collapsed": false
   },
   "outputs": [],
   "source": [
    "def get_GoT(chapter):\n",
    "    \"\"\"\n",
    "    Returns all the GoT text within the parameter chapter\n",
    "    P.S. Docstrings are great for making sure other people\n",
    "    who read your code know what you're doing with your\n",
    "    custom functions and objects\n",
    "    \"\"\"\n",
    "    chapter_num_url = URL[:-5] + chapter[len(chapter)-8:]\n",
    "    return bs(urlopen(chapter_num_url)).get_text()"
   ]
  },
  {
   "cell_type": "code",
   "execution_count": 30,
   "metadata": {
    "collapsed": false
   },
   "outputs": [],
   "source": [
    "GoT = [get_GoT(chapter) for chapter in chapters] ## takes a couple minutes"
   ]
  },
  {
   "cell_type": "markdown",
   "metadata": {},
   "source": [
    "### Not always wise to do this, servers and their admins will be upset if you make a lot of requests in a short amount of time"
   ]
  },
  {
   "cell_type": "code",
   "execution_count": 31,
   "metadata": {
    "collapsed": false
   },
   "outputs": [
    {
     "data": {
      "text/plain": [
       "(72, 72)"
      ]
     },
     "execution_count": 31,
     "metadata": {},
     "output_type": "execute_result"
    }
   ],
   "source": [
    "len(GoT),len(chapters)"
   ]
  },
  {
   "cell_type": "code",
   "execution_count": 32,
   "metadata": {
    "collapsed": false
   },
   "outputs": [
    {
     "data": {
      "text/plain": [
       "u'\\n\\nA Game of Thrones(Song of Ice and Fire Book 1) by George R.R. Martin | Chapter One | Read Vampire '"
      ]
     },
     "execution_count": 32,
     "metadata": {},
     "output_type": "execute_result"
    }
   ],
   "source": [
    "GoT[0][:100]"
   ]
  },
  {
   "cell_type": "code",
   "execution_count": 33,
   "metadata": {
    "collapsed": false
   },
   "outputs": [
    {
     "data": {
      "text/plain": [
       "u'\\n\\nA Game of Thrones(Song of Ice and Fire Book 1) by George R.R. Martin | Chapter Seventy-two | Read '"
      ]
     },
     "execution_count": 33,
     "metadata": {},
     "output_type": "execute_result"
    }
   ],
   "source": [
    "GoT[71][:100] ## zero indexed arrays/lists"
   ]
  },
  {
   "cell_type": "code",
   "execution_count": 34,
   "metadata": {
    "collapsed": false
   },
   "outputs": [
    {
     "data": {
      "text/plain": [
       "(unicode, str)"
      ]
     },
     "execution_count": 34,
     "metadata": {},
     "output_type": "execute_result"
    }
   ],
   "source": [
    "type(GoT[0]),type(unicodedata.normalize('NFKD', GoT[0]).encode('ascii','ignore'))"
   ]
  },
  {
   "cell_type": "code",
   "execution_count": 35,
   "metadata": {
    "collapsed": true
   },
   "outputs": [],
   "source": [
    "GoT = [unicodedata.normalize('NFKD',chapter).encode('ascii','ignore') for chapter in GoT] ## Another LC!"
   ]
  },
  {
   "cell_type": "code",
   "execution_count": 102,
   "metadata": {
    "collapsed": false
   },
   "outputs": [],
   "source": [
    "!mkdir GoT"
   ]
  },
  {
   "cell_type": "code",
   "execution_count": 16,
   "metadata": {
    "collapsed": true
   },
   "outputs": [],
   "source": [
    "os.chdir(\"GoT\")"
   ]
  },
  {
   "cell_type": "code",
   "execution_count": 122,
   "metadata": {
    "collapsed": false
   },
   "outputs": [],
   "source": [
    "for chapter_num in range(1,73):\n",
    "    with open(\"Chapter \"+str(chapter_num) + \".txt\",\"w\") as chap: ## file access!\n",
    "        chap.write(GoT[chapter_num-1])"
   ]
  },
  {
   "cell_type": "code",
   "execution_count": 36,
   "metadata": {
    "collapsed": false
   },
   "outputs": [],
   "source": [
    "book_string = \"\"\n",
    "for chapter in GoT:\n",
    "    book_string += chapter"
   ]
  },
  {
   "cell_type": "code",
   "execution_count": 37,
   "metadata": {
    "collapsed": false
   },
   "outputs": [
    {
     "data": {
      "text/plain": [
       "1616629"
      ]
     },
     "execution_count": 37,
     "metadata": {},
     "output_type": "execute_result"
    }
   ],
   "source": [
    "len(book_string)"
   ]
  },
  {
   "cell_type": "code",
   "execution_count": 38,
   "metadata": {
    "collapsed": false
   },
   "outputs": [],
   "source": [
    "with open(\"GoT_bookone.txt\",\"w\") as book:\n",
    "    book.write(book_string)"
   ]
  },
  {
   "cell_type": "code",
   "execution_count": 39,
   "metadata": {
    "collapsed": false
   },
   "outputs": [
    {
     "name": "stdout",
     "output_type": "stream",
     "text": [
      "\u001b[34mGoT\u001b[m\u001b[m                            Python_Reference.aux\r\n",
      "GoT.ipynb                      Python_Reference.log\r\n",
      "GoT_bookone.txt                Python_Reference.out\r\n",
      "PythonIntroduction.ipynb       Python_Reference.pdf\r\n",
      "PythonIntroduction.slides.html Python_Reference.synctex.gz\r\n",
      "Python_Exercises               Python_Reference.tex\r\n",
      "Python_Exercises.aux           README.md\r\n",
      "Python_Exercises.log           Slideshow Support.ipynb\r\n",
      "Python_Exercises.out           hello_world.png\r\n",
      "Python_Exercises.pdf           rpython.png\r\n",
      "Python_Exercises.synctex.gz    texput.log\r\n",
      "Python_Exercises.tex\r\n"
     ]
    }
   ],
   "source": [
    "!ls"
   ]
  },
  {
   "cell_type": "code",
   "execution_count": 22,
   "metadata": {
    "collapsed": true
   },
   "outputs": [],
   "source": [
    "import re ## regular expressions library"
   ]
  },
  {
   "cell_type": "code",
   "execution_count": 40,
   "metadata": {
    "collapsed": false
   },
   "outputs": [
    {
     "data": {
      "text/plain": [
       "(['winter is coming',\n",
       "  'Winter is coming',\n",
       "  'Winter is coming',\n",
       "  'winter is coming',\n",
       "  'Winter is coming',\n",
       "  'Winter is coming',\n",
       "  'Winter is coming',\n",
       "  'Winter is coming',\n",
       "  'Winter is coming',\n",
       "  'winter is coming',\n",
       "  'Winter is coming'],\n",
       " 11)"
      ]
     },
     "execution_count": 40,
     "metadata": {},
     "output_type": "execute_result"
    }
   ],
   "source": [
    "wic = re.findall(\"[Ww][Ii][Nn][Tt][Ee][Rr] [Ii][Ss] [Cc][Oo][Mm][Ii][Nn][Gg]\",book_string)\n",
    "wic,len(wic)"
   ]
  },
  {
   "cell_type": "markdown",
   "metadata": {},
   "source": [
    "<img src=\"http://cdn.pastemagazine.com/www/system/images/photo_albums/game-of-thrones-memes/large/13883.jpg?1384968217\">"
   ]
  },
  {
   "cell_type": "code",
   "execution_count": 41,
   "metadata": {
    "collapsed": true
   },
   "outputs": [],
   "source": [
    "Starks= \"[Ww][Ii][Nn][Tt][Ee][Rr] [Ii][Ss] [Cc][Oo][Mm][Ii][Nn][Gg]\"\n",
    "Lannisters = \"[Aa] [Ll]annister [Aa]lways [Pp]ays [Hh]is debts\"\n",
    "Lannister_actual = \"[Hh]ear [Mm]e [Rr]oar!\""
   ]
  },
  {
   "cell_type": "code",
   "execution_count": 42,
   "metadata": {
    "collapsed": true
   },
   "outputs": [],
   "source": [
    "search_string = re.compile(Starks)\n",
    "find = search_string.search(book_string)"
   ]
  },
  {
   "cell_type": "code",
   "execution_count": 43,
   "metadata": {
    "collapsed": false
   },
   "outputs": [
    {
     "data": {
      "text/plain": [
       "(21266, 21282)"
      ]
     },
     "execution_count": 43,
     "metadata": {},
     "output_type": "execute_result"
    }
   ],
   "source": [
    "find.span()"
   ]
  },
  {
   "cell_type": "code",
   "execution_count": 44,
   "metadata": {
    "collapsed": false
   },
   "outputs": [
    {
     "name": "stdout",
     "output_type": "stream",
     "text": [
      "21266\n",
      "21561\n",
      "103321\n",
      "300227\n",
      "313673\n",
      "392475\n",
      "420761\n",
      "730895\n",
      "780740\n",
      "1299233\n",
      "1299288\n"
     ]
    }
   ],
   "source": [
    "for position in search_string.finditer(book_string):\n",
    "    print position.start()"
   ]
  },
  {
   "cell_type": "code",
   "execution_count": 45,
   "metadata": {
    "collapsed": false
   },
   "outputs": [],
   "source": [
    "Stark_Positions = [position.start()/len(book_string) for position in search_string.finditer(book_string)]"
   ]
  },
  {
   "cell_type": "code",
   "execution_count": 46,
   "metadata": {
    "collapsed": true
   },
   "outputs": [],
   "source": [
    "from matplotlib import pyplot as plt\n",
    "import numpy as np\n",
    "%matplotlib inline"
   ]
  },
  {
   "cell_type": "code",
   "execution_count": 49,
   "metadata": {
    "collapsed": false
   },
   "outputs": [
    {
     "data": {
      "image/png": "[encoded data removed]",
      "text/plain": [
       "<matplotlib.figure.Figure at 0x1021389d0>"
      ]
     },
     "metadata": {},
     "output_type": "display_data"
    }
   ],
   "source": [
    "plt.boxplot(Stark_Positions)\n",
    "plt.title(\"Winter is Coming-Book Positions\")\n",
    "plt.ylabel(\"Relative Position in Book\")\n",
    "plt.show()"
   ]
  },
  {
   "cell_type": "code",
   "execution_count": 88,
   "metadata": {
    "collapsed": false
   },
   "outputs": [
    {
     "data": {
      "image/png": "[encoded data removed]",
      "text/plain": [
       "<matplotlib.figure.Figure at 0x10b4db250>"
      ]
     },
     "metadata": {},
     "output_type": "display_data"
    }
   ],
   "source": [
    "search_string = re.compile(Lannisters)\n",
    "Lannister_positions = [position.start()/len(book_string) for position in search_string.finditer(book_string)]\n",
    "plt.boxplot([Stark_Positions,Lannister_positions])\n",
    "plt.title(\"GoT Word Positions\")\n",
    "plt.xticks([1,2],[\"Stark\",\"Lannister\"])\n",
    "plt.text(1.2,np.mean(Stark_Positions),str(len(Stark_Positions)))\n",
    "plt.text(2.2,np.mean(Lannister_positions),str(len(Lannister_positions)))\n",
    "plt.ylabel(\"Relative Position in Book\")\n",
    "plt.show()"
   ]
  },
  {
   "cell_type": "code",
   "execution_count": 98,
   "metadata": {
    "collapsed": false
   },
   "outputs": [
    {
     "data": {
      "image/png": "[encoded data removed]",
      "text/plain": [
       "<matplotlib.figure.Figure at 0x10bab2a50>"
      ]
     },
     "metadata": {},
     "output_type": "display_data"
    }
   ],
   "source": [
    "search_string = re.compile(\"[Dd]warf\")\n",
    "dwarf_pos = [position.start()/len(book_string) for position in search_string.finditer(book_string)]\n",
    "plt.boxplot([dwarf_pos])\n",
    "plt.title(\"GoT Book Locations\")\n",
    "plt.xticks([1],[\"Dwarf Location\"])\n",
    "plt.text(1.2,np.mean(dwarf_pos),str(len(dwarf_pos)))\n",
    "plt.ylabel(\"Relative Position in Book\")\n",
    "plt.show()"
   ]
  },
  {
   "cell_type": "markdown",
   "metadata": {},
   "source": [
    "<img src=\"http://cdn.pastemagazine.com/www/system/images/photo_albums/game-of-thrones-memes/large/21-memes-got-hipster-jon-snow-old-gods.jpg?1384968217\">"
   ]
  }
 ],
 "metadata": {
  "kernelspec": {
   "display_name": "Python 2",
   "language": "python",
   "name": "python2"
  },
  "language_info": {
   "codemirror_mode": {
    "name": "ipython",
    "version": 2
   },
   "file_extension": ".py",
   "mimetype": "text/x-python",
   "name": "python",
   "nbconvert_exporter": "python",
   "pygments_lexer": "ipython2",
   "version": "2.7.10"
  }
 },
 "nbformat": 4,
 "nbformat_minor": 0
}
