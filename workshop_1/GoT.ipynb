{
 "cells": [
  {
   "cell_type": "code",
   "execution_count": 2,
   "metadata": {
    "collapsed": false
   },
   "outputs": [],
   "source": [
    "from bs4 import BeautifulSoup as bs\n",
    "import pandas as pd"
   ]
  },
  {
   "cell_type": "code",
   "execution_count": 3,
   "metadata": {
    "collapsed": true
   },
   "outputs": [],
   "source": [
    "import urlparse ## SO MANY LIBRARIES\n",
    "from urllib2 import urlopen\n",
    "from urllib import urlretrieve\n",
    "import unicodedata\n",
    "import os\n",
    "import sys"
   ]
  },
  {
   "cell_type": "code",
   "execution_count": 4,
   "metadata": {
    "collapsed": true
   },
   "outputs": [],
   "source": [
    "URL = \"http://www.readbooksvampire.com/George_R.R._Martin/A_Game_of_Thrones.html\" ## CAPS = GLOBAL CONSTANT"
   ]
  },
  {
   "cell_type": "code",
   "execution_count": 7,
   "metadata": {
    "collapsed": false
   },
   "outputs": [],
   "source": [
    "soup = bs(urlopen(URL))"
   ]
  },
  {
   "cell_type": "code",
   "execution_count": 8,
   "metadata": {
    "collapsed": true
   },
   "outputs": [],
   "source": [
    "parsed = list(urlparse.urlparse(URL))"
   ]
  },
  {
   "cell_type": "code",
   "execution_count": 9,
   "metadata": {
    "collapsed": false
   },
   "outputs": [
    {
     "name": "stdout",
     "output_type": "stream",
     "text": [
      "/George_R.R._Martin/A_Game_of_Thrones/01.html\n",
      "/George_R.R._Martin/A_Game_of_Thrones/02.html\n",
      "/George_R.R._Martin/A_Game_of_Thrones/03.html\n",
      "/George_R.R._Martin/A_Game_of_Thrones/04.html\n",
      "/George_R.R._Martin/A_Game_of_Thrones/05.html\n",
      "/George_R.R._Martin/A_Game_of_Thrones/06.html\n",
      "/George_R.R._Martin/A_Game_of_Thrones/07.html\n"
     ]
    }
   ],
   "source": [
    "i = 0\n",
    "for link in soup.find_all('a'):\n",
    "    if \"George_R.R._Martin/A_Game_of_Thrones/\" in link.get('href'):\n",
    "        print(link.get('href'))\n",
    "        i+=1\n",
    "    if i > 6:\n",
    "        break"
   ]
  },
  {
   "cell_type": "markdown",
   "metadata": {},
   "source": [
    "## OOOOOO LIST COMPREHENSION"
   ]
  },
  {
   "cell_type": "code",
   "execution_count": 10,
   "metadata": {
    "collapsed": false
   },
   "outputs": [
    {
     "data": {
      "text/plain": [
       "['/George_R.R._Martin/A_Game_of_Thrones/01.html',\n",
       " '/George_R.R._Martin/A_Game_of_Thrones/02.html',\n",
       " '/George_R.R._Martin/A_Game_of_Thrones/03.html',\n",
       " '/George_R.R._Martin/A_Game_of_Thrones/04.html',\n",
       " '/George_R.R._Martin/A_Game_of_Thrones/05.html']"
      ]
     },
     "execution_count": 10,
     "metadata": {},
     "output_type": "execute_result"
    }
   ],
   "source": [
    "chapters = [ link.get('href') for link in soup.find_all('a') \n",
    "            if \"George_R.R._Martin/A_Game_of_Thrones/\" in link.get('href')]\n",
    "chapters[:5]"
   ]
  },
  {
   "cell_type": "code",
   "execution_count": 11,
   "metadata": {
    "collapsed": false
   },
   "outputs": [],
   "source": [
    "## lets check this out for chapter 1\n",
    "chapter1_url = URL[:-5] + chapters[0][len(chapters[0])-8:] ## look at this fancy string slicing!!!"
   ]
  },
  {
   "cell_type": "code",
   "execution_count": 12,
   "metadata": {
    "collapsed": false
   },
   "outputs": [
    {
     "data": {
      "text/plain": [
       "'http://www.readbooksvampire.com/George_R.R._Martin/A_Game_of_Thrones/01.html'"
      ]
     },
     "execution_count": 12,
     "metadata": {},
     "output_type": "execute_result"
    }
   ],
   "source": [
    "chapter1_url"
   ]
  },
  {
   "cell_type": "code",
   "execution_count": 13,
   "metadata": {
    "collapsed": false
   },
   "outputs": [],
   "source": [
    "soup_1 = bs(urlopen(chapter1_url))"
   ]
  },
  {
   "cell_type": "code",
   "execution_count": 80,
   "metadata": {
    "collapsed": false
   },
   "outputs": [],
   "source": [
    "# soup_1.get_text()"
   ]
  },
  {
   "cell_type": "markdown",
   "metadata": {},
   "source": [
    "### lets get the whole book\n",
    "\n",
    "##### What would this look like in a for loop?"
   ]
  },
  {
   "cell_type": "code",
   "execution_count": null,
   "metadata": {
    "collapsed": true
   },
   "outputs": [],
   "source": [
    "chapter_num = 1\n",
    "for chapter in chapters:\n",
    "    chapter_num_url = URL[:-5] + chapters[0][len(chapter)-8:]\n",
    "    bs(urlopen(chapter_num_url)).get_text()"
   ]
  },
  {
   "cell_type": "code",
   "execution_count": 14,
   "metadata": {
    "collapsed": false
   },
   "outputs": [],
   "source": [
    "def get_GoT(chapter):\n",
    "    \"\"\"\n",
    "    Returns all the GoT text within the parameter chapter\n",
    "    \"\"\"\n",
    "    chapter_num_url = URL[:-5] + chapter[len(chapter)-8:]\n",
    "    return bs(urlopen(chapter_num_url)).get_text()"
   ]
  },
  {
   "cell_type": "code",
   "execution_count": 15,
   "metadata": {
    "collapsed": false
   },
   "outputs": [],
   "source": [
    "GoT = [get_GoT(chapter) for chapter in chapters] ## takes a couple minutes"
   ]
  },
  {
   "cell_type": "markdown",
   "metadata": {},
   "source": [
    "### Not always wise to do this, servers and their admins will be upset if you make a lot of requests in a short amount of time"
   ]
  },
  {
   "cell_type": "code",
   "execution_count": 16,
   "metadata": {
    "collapsed": false
   },
   "outputs": [
    {
     "data": {
      "text/plain": [
       "(72, 72)"
      ]
     },
     "execution_count": 16,
     "metadata": {},
     "output_type": "execute_result"
    }
   ],
   "source": [
    "len(GoT),len(chapters)"
   ]
  },
  {
   "cell_type": "code",
   "execution_count": 17,
   "metadata": {
    "collapsed": false
   },
   "outputs": [
    {
     "data": {
      "text/plain": [
       "u'\\n\\nA Game of Thrones(Song of Ice and Fire Book 1) by George R.R. Martin | Chapter One | Read Vampire '"
      ]
     },
     "execution_count": 17,
     "metadata": {},
     "output_type": "execute_result"
    }
   ],
   "source": [
    "GoT[0][:100]"
   ]
  },
  {
   "cell_type": "code",
   "execution_count": 18,
   "metadata": {
    "collapsed": false
   },
   "outputs": [
    {
     "data": {
      "text/plain": [
       "u'\\n\\nA Game of Thrones(Song of Ice and Fire Book 1) by George R.R. Martin | Chapter Seventy-two | Read '"
      ]
     },
     "execution_count": 18,
     "metadata": {},
     "output_type": "execute_result"
    }
   ],
   "source": [
    "GoT[71][:100] ## zero indexed arrays/lists"
   ]
  },
  {
   "cell_type": "code",
   "execution_count": 19,
   "metadata": {
    "collapsed": false
   },
   "outputs": [
    {
     "data": {
      "text/plain": [
       "(unicode, str)"
      ]
     },
     "execution_count": 19,
     "metadata": {},
     "output_type": "execute_result"
    }
   ],
   "source": [
    "type(GoT[0]),type(unicodedata.normalize('NFKD', GoT[0]).encode('ascii','ignore'))"
   ]
  },
  {
   "cell_type": "code",
   "execution_count": 20,
   "metadata": {
    "collapsed": true
   },
   "outputs": [],
   "source": [
    "GoT = [unicodedata.normalize('NFKD',chapter).encode('ascii','ignore') for chapter in GoT]"
   ]
  },
  {
   "cell_type": "code",
   "execution_count": 102,
   "metadata": {
    "collapsed": false
   },
   "outputs": [],
   "source": [
    "!mkdir GoT"
   ]
  },
  {
   "cell_type": "code",
   "execution_count": 114,
   "metadata": {
    "collapsed": true
   },
   "outputs": [],
   "source": [
    "os.chdir(\"GoT\")"
   ]
  },
  {
   "cell_type": "code",
   "execution_count": 122,
   "metadata": {
    "collapsed": false
   },
   "outputs": [],
   "source": [
    "for chapter_num in range(1,73):\n",
    "    with open(\"Chapter \"+str(chapter_num) + \".txt\",\"w\") as chap:\n",
    "        chap.write(GoT[chapter_num-1])"
   ]
  },
  {
   "cell_type": "code",
   "execution_count": 23,
   "metadata": {
    "collapsed": false
   },
   "outputs": [],
   "source": [
    "book_string = \"\"\n",
    "for chapter in GoT:\n",
    "    book_string += chapter"
   ]
  },
  {
   "cell_type": "code",
   "execution_count": 24,
   "metadata": {
    "collapsed": false
   },
   "outputs": [
    {
     "data": {
      "text/plain": [
       "1616629"
      ]
     },
     "execution_count": 24,
     "metadata": {},
     "output_type": "execute_result"
    }
   ],
   "source": [
    "len(book_string)"
   ]
  },
  {
   "cell_type": "code",
   "execution_count": 35,
   "metadata": {
    "collapsed": true
   },
   "outputs": [],
   "source": [
    "with open(\"GoT_bookone.txt\",\"w\") as book:\n",
    "    book.write(book_string)"
   ]
  },
  {
   "cell_type": "code",
   "execution_count": 42,
   "metadata": {
    "collapsed": false
   },
   "outputs": [
    {
     "name": "stdout",
     "output_type": "stream",
     "text": [
      "Chapter 1.txt   Chapter 23.txt  Chapter 37.txt  Chapter 50.txt  Chapter 64.txt\r\n",
      "Chapter 10.txt  Chapter 24.txt  Chapter 38.txt  Chapter 51.txt  Chapter 65.txt\r\n",
      "Chapter 11.txt  Chapter 25.txt  Chapter 39.txt  Chapter 52.txt  Chapter 66.txt\r\n",
      "Chapter 12.txt  Chapter 26.txt  Chapter 4.txt   Chapter 53.txt  Chapter 67.txt\r\n",
      "Chapter 13.txt  Chapter 27.txt  Chapter 40.txt  Chapter 54.txt  Chapter 68.txt\r\n",
      "Chapter 14.txt  Chapter 28.txt  Chapter 41.txt  Chapter 55.txt  Chapter 69.txt\r\n",
      "Chapter 15.txt  Chapter 29.txt  Chapter 42.txt  Chapter 56.txt  Chapter 7.txt\r\n",
      "Chapter 16.txt  Chapter 3.txt   Chapter 43.txt  Chapter 57.txt  Chapter 70.txt\r\n",
      "Chapter 17.txt  Chapter 30.txt  Chapter 44.txt  Chapter 58.txt  Chapter 71.txt\r\n",
      "Chapter 18.txt  Chapter 31.txt  Chapter 45.txt  Chapter 59.txt  Chapter 72.txt\r\n",
      "Chapter 19.txt  Chapter 32.txt  Chapter 46.txt  Chapter 6.txt   Chapter 8.txt\r\n",
      "Chapter 2.txt   Chapter 33.txt  Chapter 47.txt  Chapter 60.txt  Chapter 9.txt\r\n",
      "Chapter 20.txt  Chapter 34.txt  Chapter 48.txt  Chapter 61.txt  GoT_bookone.txt\r\n",
      "Chapter 21.txt  Chapter 35.txt  Chapter 49.txt  Chapter 62.txt\r\n",
      "Chapter 22.txt  Chapter 36.txt  Chapter 5.txt   Chapter 63.txt\r\n"
     ]
    }
   ],
   "source": [
    "!ls"
   ]
  },
  {
   "cell_type": "code",
   "execution_count": 25,
   "metadata": {
    "collapsed": true
   },
   "outputs": [],
   "source": [
    "import re"
   ]
  },
  {
   "cell_type": "code",
   "execution_count": 27,
   "metadata": {
    "collapsed": false
   },
   "outputs": [
    {
     "data": {
      "text/plain": [
       "(['winter is coming',\n",
       "  'Winter is coming',\n",
       "  'Winter is coming',\n",
       "  'winter is coming',\n",
       "  'Winter is coming',\n",
       "  'Winter is coming',\n",
       "  'Winter is coming',\n",
       "  'Winter is coming',\n",
       "  'Winter is coming',\n",
       "  'winter is coming',\n",
       "  'Winter is coming'],\n",
       " 11)"
      ]
     },
     "execution_count": 27,
     "metadata": {},
     "output_type": "execute_result"
    }
   ],
   "source": [
    "wic = re.findall(\"[Ww][Ii][Nn][Tt][Ee][Rr] [Ii][Ss] [Cc][Oo][Mm][Ii][Nn][Gg]\",book_string)\n",
    "wic,len(wic)"
   ]
  },
  {
   "cell_type": "code",
   "execution_count": 131,
   "metadata": {
    "collapsed": false
   },
   "outputs": [
    {
     "data": {
      "text/plain": [
       "86"
      ]
     },
     "execution_count": 131,
     "metadata": {},
     "output_type": "execute_result"
    }
   ],
   "source": [
    "len(re.findall(\"[Dd]warf\",book_string))"
   ]
  },
  {
   "cell_type": "code",
   "execution_count": 46,
   "metadata": {
    "collapsed": false
   },
   "outputs": [
    {
     "ename": "IOError",
     "evalue": "[Errno 2] No such file or directory: u'/Users/Adam/anaconda/lib/python2.7/site-packages/spacy/en/data/vocab/tag_map.json'",
     "output_type": "error",
     "traceback": [
      "\u001b[0;31m---------------------------------------------------------------------------\u001b[0m",
      "\u001b[0;31mIOError\u001b[0m                                   Traceback (most recent call last)",
      "\u001b[0;32m<ipython-input-46-b91c14e0c675>\u001b[0m in \u001b[0;36m<module>\u001b[0;34m()\u001b[0m\n\u001b[1;32m      1\u001b[0m \u001b[0;32mimport\u001b[0m \u001b[0mspacy\u001b[0m\u001b[0;34m.\u001b[0m\u001b[0men\u001b[0m\u001b[0;34m\u001b[0m\u001b[0m\n\u001b[0;32m----> 2\u001b[0;31m \u001b[0mnlp\u001b[0m \u001b[0;34m=\u001b[0m \u001b[0mspacy\u001b[0m\u001b[0;34m.\u001b[0m\u001b[0men\u001b[0m\u001b[0;34m.\u001b[0m\u001b[0mEnglish\u001b[0m\u001b[0;34m(\u001b[0m\u001b[0;34m)\u001b[0m\u001b[0;34m\u001b[0m\u001b[0m\n\u001b[0m",
      "\u001b[0;32m/Users/Adam/anaconda/lib/python2.7/site-packages/spacy/language.pyc\u001b[0m in \u001b[0;36m__init__\u001b[0;34m(self, data_dir, vocab, tokenizer, tagger, parser, entity, matcher, serializer, load_vectors)\u001b[0m\n\u001b[1;32m    190\u001b[0m         \u001b[0;32mif\u001b[0m \u001b[0mdata_dir\u001b[0m \u001b[0;32min\u001b[0m \u001b[0;34m(\u001b[0m\u001b[0mNone\u001b[0m\u001b[0;34m,\u001b[0m \u001b[0mTrue\u001b[0m\u001b[0;34m)\u001b[0m\u001b[0;34m:\u001b[0m\u001b[0;34m\u001b[0m\u001b[0m\n\u001b[1;32m    191\u001b[0m             \u001b[0mdata_dir\u001b[0m \u001b[0;34m=\u001b[0m \u001b[0mself\u001b[0m\u001b[0;34m.\u001b[0m\u001b[0mdefault_data_dir\u001b[0m\u001b[0;34m(\u001b[0m\u001b[0;34m)\u001b[0m\u001b[0;34m\u001b[0m\u001b[0m\n\u001b[0;32m--> 192\u001b[0;31m         \u001b[0;32mif\u001b[0m \u001b[0mvocab\u001b[0m \u001b[0;32min\u001b[0m \u001b[0;34m(\u001b[0m\u001b[0mNone\u001b[0m\u001b[0;34m,\u001b[0m \u001b[0mTrue\u001b[0m\u001b[0;34m)\u001b[0m\u001b[0;34m:\u001b[0m\u001b[0;34m\u001b[0m\u001b[0m\n\u001b[0m\u001b[1;32m    193\u001b[0m             \u001b[0mvocab\u001b[0m \u001b[0;34m=\u001b[0m \u001b[0mself\u001b[0m\u001b[0;34m.\u001b[0m\u001b[0mdefault_vocab\u001b[0m\u001b[0;34m(\u001b[0m\u001b[0mdata_dir\u001b[0m\u001b[0;34m)\u001b[0m\u001b[0;34m\u001b[0m\u001b[0m\n\u001b[1;32m    194\u001b[0m         \u001b[0;32mif\u001b[0m \u001b[0mtokenizer\u001b[0m \u001b[0;32min\u001b[0m \u001b[0;34m(\u001b[0m\u001b[0mNone\u001b[0m\u001b[0;34m,\u001b[0m \u001b[0mTrue\u001b[0m\u001b[0;34m)\u001b[0m\u001b[0;34m:\u001b[0m\u001b[0;34m\u001b[0m\u001b[0m\n",
      "\u001b[0;32m/Users/Adam/anaconda/lib/python2.7/site-packages/spacy/language.pyc\u001b[0m in \u001b[0;36mdefault_vocab\u001b[0;34m(cls, data_dir, get_lex_attr)\u001b[0m\n\u001b[1;32m    145\u001b[0m             \u001b[0mget_lex_attr\u001b[0m \u001b[0;34m=\u001b[0m \u001b[0mcls\u001b[0m\u001b[0;34m.\u001b[0m\u001b[0mdefault_lex_attrs\u001b[0m\u001b[0;34m(\u001b[0m\u001b[0mdata_dir\u001b[0m\u001b[0;34m)\u001b[0m\u001b[0;34m\u001b[0m\u001b[0m\n\u001b[1;32m    146\u001b[0m         return Vocab.from_dir(\n\u001b[0;32m--> 147\u001b[0;31m                 \u001b[0mpath\u001b[0m\u001b[0;34m.\u001b[0m\u001b[0mjoin\u001b[0m\u001b[0;34m(\u001b[0m\u001b[0mdata_dir\u001b[0m\u001b[0;34m,\u001b[0m \u001b[0;34m'vocab'\u001b[0m\u001b[0;34m)\u001b[0m\u001b[0;34m,\u001b[0m\u001b[0;34m\u001b[0m\u001b[0m\n\u001b[0m\u001b[1;32m    148\u001b[0m                 get_lex_attr=get_lex_attr)\n\u001b[1;32m    149\u001b[0m \u001b[0;34m\u001b[0m\u001b[0m\n",
      "\u001b[0;32mspacy/vocab.pyx\u001b[0m in \u001b[0;36mspacy.vocab.Vocab.from_dir (spacy/vocab.cpp:2987)\u001b[0;34m()\u001b[0m\n",
      "\u001b[0;31mIOError\u001b[0m: [Errno 2] No such file or directory: u'/Users/Adam/anaconda/lib/python2.7/site-packages/spacy/en/data/vocab/tag_map.json'"
     ]
    }
   ],
   "source": [
    "import spacy.en\n",
    "nlp = spacy.en.English()"
   ]
  },
  {
   "cell_type": "code",
   "execution_count": null,
   "metadata": {
    "collapsed": true
   },
   "outputs": [],
   "source": []
  }
 ],
 "metadata": {
  "kernelspec": {
   "display_name": "Python 2",
   "language": "python",
   "name": "python2"
  },
  "language_info": {
   "codemirror_mode": {
    "name": "ipython",
    "version": 2
   },
   "file_extension": ".py",
   "mimetype": "text/x-python",
   "name": "python",
   "nbconvert_exporter": "python",
   "pygments_lexer": "ipython2",
   "version": "2.7.10"
  }
 },
 "nbformat": 4,
 "nbformat_minor": 0
}
